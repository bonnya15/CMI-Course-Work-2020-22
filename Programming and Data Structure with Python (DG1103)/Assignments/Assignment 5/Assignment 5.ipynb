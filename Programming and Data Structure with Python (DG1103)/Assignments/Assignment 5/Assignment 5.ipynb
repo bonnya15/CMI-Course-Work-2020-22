{
 "cells": [
  {
   "cell_type": "code",
   "execution_count": 1,
   "metadata": {},
   "outputs": [],
   "source": [
    "class Doublenode:\n",
    "    def __init__(self, data = None):\n",
    "        self.value = data \n",
    "        self.next = None\n",
    "        self.prev = None \n",
    "    \n",
    "class Deque:\n",
    "    def __init__(self, l = []):\n",
    "        self.head = None # Initially there are no elements \n",
    "        self.tail = None\n",
    "        for i in l:\n",
    "            new_node = Doublenode(i)\n",
    "            if self.tail == None:\n",
    "                self.head = new_node\n",
    "                self.tail = new_node\n",
    "\n",
    "            else:\n",
    "                self.tail.next = new_node\n",
    "                new_node.prev = self.tail\n",
    "                self.tail = new_node\n",
    "            \n",
    "        \n",
    "        \n",
    "    def insert_front(self, v):\n",
    "        new_node = Doublenode(v)\n",
    "        \n",
    "        \n",
    "        # If the list is empty \n",
    "        if self.head == None: \n",
    "            self.head = new_node\n",
    "            self.tail = new_node\n",
    "            return \n",
    "        else:\n",
    "            self.head.prev = new_node\n",
    "            new_node.next = self.head\n",
    "            self.head = new_node\n",
    "            \n",
    "        return \n",
    "        \n",
    "    def insert_rear(self,v):\n",
    "        new_node = Doublenode(v)\n",
    "        \n",
    "        # If the list is empty \n",
    "        if self.tail == None:\n",
    "            self.head = new_node\n",
    "            self.tail = new_node\n",
    "\n",
    "        else:\n",
    "            self.tail.next = new_node\n",
    "            new_node.prev = self.tail\n",
    "            self.tail = new_node\n",
    "\n",
    "            \n",
    "    def delete_front(self):\n",
    "        if self.head == None:\n",
    "            raise IndexError(\"Sorry, The Deque is Empty\")\n",
    "        else:\n",
    "            temp = self.head\n",
    "            if temp.next != None :\n",
    "                temp.next.prev = None\n",
    "                self.head = temp.next \n",
    "                temp.next = None\n",
    "                return(temp.value)\n",
    "            else:\n",
    "                self.head = None\n",
    "                self.tail = None\n",
    "                return(temp.value)\n",
    "        \n",
    "    def delete_rear(self):\n",
    "        if self.tail == None:\n",
    "            raise IndexError(\"Sorry, The Deque is Empty\")\n",
    "        else:\n",
    "            temp = self.tail \n",
    "            if temp.prev != None:\n",
    "                temp.prev.next = None\n",
    "                self.tail = temp.prev\n",
    "                temp.prev = None\n",
    "                return(temp.value)\n",
    "            else:\n",
    "                self.head = None\n",
    "                self.tail = None\n",
    "                return(temp.value)      \n",
    "        \n",
    "        \n",
    "    def __str__(self):\n",
    "        selflist = []\n",
    "        if self.head == None:   # If it is empty list \n",
    "            return(str(selflist))\n",
    "        temp = self.head\n",
    "        selflist.append(temp.value) # append the current value of the list \n",
    "        \n",
    "        while temp.next != None:\n",
    "            temp = temp.next \n",
    "            selflist.append(temp.value)\n",
    "        return(str(selflist))\n",
    "         "
   ]
  },
  {
   "cell_type": "code",
   "execution_count": 2,
   "metadata": {},
   "outputs": [
    {
     "name": "stdout",
     "output_type": "stream",
     "text": [
      "[1, 2, 3, 4]\n"
     ]
    }
   ],
   "source": [
    "l1 = Deque([1,2,3,4])\n",
    "print(l1)"
   ]
  },
  {
   "cell_type": "code",
   "execution_count": 3,
   "metadata": {},
   "outputs": [
    {
     "name": "stdout",
     "output_type": "stream",
     "text": [
      "[5, 1, 2, 3, 4]\n"
     ]
    }
   ],
   "source": [
    "l1.insert_front(5)\n",
    "print(l1)"
   ]
  },
  {
   "cell_type": "code",
   "execution_count": 4,
   "metadata": {},
   "outputs": [
    {
     "name": "stdout",
     "output_type": "stream",
     "text": [
      "[8, 5, 1, 2, 3, 4]\n"
     ]
    }
   ],
   "source": [
    "l1.insert_front(8)\n",
    "print(l1)"
   ]
  },
  {
   "cell_type": "code",
   "execution_count": 5,
   "metadata": {},
   "outputs": [
    {
     "name": "stdout",
     "output_type": "stream",
     "text": [
      "[10, 8, 5, 1, 2, 3, 4]\n"
     ]
    }
   ],
   "source": [
    "l1.insert_front(10)\n",
    "print(l1)"
   ]
  },
  {
   "cell_type": "code",
   "execution_count": 6,
   "metadata": {},
   "outputs": [
    {
     "name": "stdout",
     "output_type": "stream",
     "text": [
      "[12, 10, 8, 5, 1, 2, 3, 4]\n"
     ]
    }
   ],
   "source": [
    "l1.insert_front(12)\n",
    "print(l1)"
   ]
  },
  {
   "cell_type": "code",
   "execution_count": 7,
   "metadata": {},
   "outputs": [
    {
     "name": "stdout",
     "output_type": "stream",
     "text": [
      "[12, 10, 8, 5, 1, 2, 3, 4, 30]\n"
     ]
    }
   ],
   "source": [
    "l1.insert_rear(30)\n",
    "print(l1)"
   ]
  },
  {
   "cell_type": "code",
   "execution_count": 8,
   "metadata": {},
   "outputs": [
    {
     "name": "stdout",
     "output_type": "stream",
     "text": [
      "[12, 10, 8, 5, 1, 2, 3, 4, 30, 11, 70]\n"
     ]
    }
   ],
   "source": [
    "l1.insert_rear(11)\n",
    "l1.insert_rear(70)\n",
    "print(l1)"
   ]
  },
  {
   "cell_type": "code",
   "execution_count": 9,
   "metadata": {},
   "outputs": [
    {
     "data": {
      "text/plain": [
       "12"
      ]
     },
     "execution_count": 9,
     "metadata": {},
     "output_type": "execute_result"
    }
   ],
   "source": [
    "l1.delete_front()"
   ]
  },
  {
   "cell_type": "code",
   "execution_count": 10,
   "metadata": {},
   "outputs": [
    {
     "name": "stdout",
     "output_type": "stream",
     "text": [
      "[10, 8, 5, 1, 2, 3, 4, 30, 11, 70]\n"
     ]
    }
   ],
   "source": [
    "print(l1)"
   ]
  },
  {
   "cell_type": "code",
   "execution_count": 11,
   "metadata": {},
   "outputs": [
    {
     "data": {
      "text/plain": [
       "70"
      ]
     },
     "execution_count": 11,
     "metadata": {},
     "output_type": "execute_result"
    }
   ],
   "source": [
    "l1.delete_rear()"
   ]
  },
  {
   "cell_type": "code",
   "execution_count": 12,
   "metadata": {},
   "outputs": [
    {
     "name": "stdout",
     "output_type": "stream",
     "text": [
      "[10, 8, 5, 1, 2, 3, 4, 30, 11]\n"
     ]
    }
   ],
   "source": [
    "print(l1)"
   ]
  },
  {
   "cell_type": "code",
   "execution_count": 13,
   "metadata": {},
   "outputs": [
    {
     "data": {
      "text/plain": [
       "10"
      ]
     },
     "execution_count": 13,
     "metadata": {},
     "output_type": "execute_result"
    }
   ],
   "source": [
    "l1.delete_front()"
   ]
  },
  {
   "cell_type": "code",
   "execution_count": 14,
   "metadata": {},
   "outputs": [
    {
     "data": {
      "text/plain": [
       "8"
      ]
     },
     "execution_count": 14,
     "metadata": {},
     "output_type": "execute_result"
    }
   ],
   "source": [
    "l1.delete_front()\n"
   ]
  },
  {
   "cell_type": "code",
   "execution_count": 15,
   "metadata": {},
   "outputs": [
    {
     "data": {
      "text/plain": [
       "5"
      ]
     },
     "execution_count": 15,
     "metadata": {},
     "output_type": "execute_result"
    }
   ],
   "source": [
    "l1.delete_front()"
   ]
  },
  {
   "cell_type": "code",
   "execution_count": 16,
   "metadata": {},
   "outputs": [
    {
     "data": {
      "text/plain": [
       "1"
      ]
     },
     "execution_count": 16,
     "metadata": {},
     "output_type": "execute_result"
    }
   ],
   "source": [
    "l1.delete_front()"
   ]
  },
  {
   "cell_type": "code",
   "execution_count": 17,
   "metadata": {},
   "outputs": [
    {
     "name": "stdout",
     "output_type": "stream",
     "text": [
      "[2, 3, 4, 30, 11]\n"
     ]
    }
   ],
   "source": [
    "print(l1)"
   ]
  },
  {
   "cell_type": "code",
   "execution_count": 24,
   "metadata": {},
   "outputs": [
    {
     "ename": "IndexError",
     "evalue": "Sorry, The Deque is Empty",
     "output_type": "error",
     "traceback": [
      "\u001b[1;31m---------------------------------------------------------------------------\u001b[0m",
      "\u001b[1;31mIndexError\u001b[0m                                Traceback (most recent call last)",
      "\u001b[1;32m<ipython-input-24-f5362dbb47ca>\u001b[0m in \u001b[0;36m<module>\u001b[1;34m\u001b[0m\n\u001b[1;32m----> 1\u001b[1;33m \u001b[0ml1\u001b[0m\u001b[1;33m.\u001b[0m\u001b[0mdelete_front\u001b[0m\u001b[1;33m(\u001b[0m\u001b[1;33m)\u001b[0m\u001b[1;33m\u001b[0m\u001b[1;33m\u001b[0m\u001b[0m\n\u001b[0m",
      "\u001b[1;32m<ipython-input-1-be022dafd6ac>\u001b[0m in \u001b[0;36mdelete_front\u001b[1;34m(self)\u001b[0m\n\u001b[0;32m     59\u001b[0m     \u001b[1;32mdef\u001b[0m \u001b[0mdelete_front\u001b[0m\u001b[1;33m(\u001b[0m\u001b[0mself\u001b[0m\u001b[1;33m)\u001b[0m\u001b[1;33m:\u001b[0m\u001b[1;33m\u001b[0m\u001b[1;33m\u001b[0m\u001b[0m\n\u001b[0;32m     60\u001b[0m         \u001b[1;32mif\u001b[0m \u001b[0mself\u001b[0m\u001b[1;33m.\u001b[0m\u001b[0mhead\u001b[0m \u001b[1;33m==\u001b[0m \u001b[1;32mNone\u001b[0m\u001b[1;33m:\u001b[0m\u001b[1;33m\u001b[0m\u001b[1;33m\u001b[0m\u001b[0m\n\u001b[1;32m---> 61\u001b[1;33m             \u001b[1;32mraise\u001b[0m \u001b[0mIndexError\u001b[0m\u001b[1;33m(\u001b[0m\u001b[1;34m\"Sorry, The Deque is Empty\"\u001b[0m\u001b[1;33m)\u001b[0m\u001b[1;33m\u001b[0m\u001b[1;33m\u001b[0m\u001b[0m\n\u001b[0m\u001b[0;32m     62\u001b[0m         \u001b[1;32melse\u001b[0m\u001b[1;33m:\u001b[0m\u001b[1;33m\u001b[0m\u001b[1;33m\u001b[0m\u001b[0m\n\u001b[0;32m     63\u001b[0m             \u001b[0mtemp\u001b[0m \u001b[1;33m=\u001b[0m \u001b[0mself\u001b[0m\u001b[1;33m.\u001b[0m\u001b[0mhead\u001b[0m\u001b[1;33m\u001b[0m\u001b[1;33m\u001b[0m\u001b[0m\n",
      "\u001b[1;31mIndexError\u001b[0m: Sorry, The Deque is Empty"
     ]
    }
   ],
   "source": [
    "l1.delete_front()"
   ]
  },
  {
   "cell_type": "code",
   "execution_count": 23,
   "metadata": {},
   "outputs": [
    {
     "name": "stdout",
     "output_type": "stream",
     "text": [
      "[]\n"
     ]
    }
   ],
   "source": [
    "print(l1)"
   ]
  }
 ],
 "metadata": {
  "kernelspec": {
   "display_name": "Python 3",
   "language": "python",
   "name": "python3"
  },
  "language_info": {
   "codemirror_mode": {
    "name": "ipython",
    "version": 3
   },
   "file_extension": ".py",
   "mimetype": "text/x-python",
   "name": "python",
   "nbconvert_exporter": "python",
   "pygments_lexer": "ipython3",
   "version": "3.8.5"
  }
 },
 "nbformat": 4,
 "nbformat_minor": 4
}
