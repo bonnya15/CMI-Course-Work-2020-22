{
 "cells": [
  {
   "cell_type": "code",
   "execution_count": 10,
   "metadata": {},
   "outputs": [
    {
     "name": "stdout",
     "output_type": "stream",
     "text": [
      "0 1 -1 True\n",
      "-1 1 -2 True\n",
      "-1 2 -3 True\n",
      "-1 3 -4 True\n",
      "-2 3 -5 True\n",
      "-2 4 -6 True\n",
      "-3 4 -7 True\n",
      "-4 4 -8 True\n",
      "-4 5 -9 True\n",
      "-4 6 -10 True\n",
      "-4 7 -11 True\n",
      "-5 7 -12 True\n",
      "-6 7 -13 True\n",
      "-6 8 -14 True\n",
      "-6 9 -15 True\n",
      "-7 9 -16 True\n",
      "-7 10 -17 True\n",
      "-8 10 -18 True\n",
      "-8 11 -19 True\n",
      "-8 12 -20 True\n",
      "-9 12 -21 True\n",
      "-9 13 -22 True\n",
      "-9 14 -23 True\n",
      "-10 14 -24 True\n",
      "-11 14 -25 True\n",
      "-12 14 -26 True\n",
      "-13 14 -27 True\n",
      "-13 15 -28 True\n",
      "-13 16 -29 True\n",
      "-14 16 -30 True\n",
      "-14 17 -31 True\n",
      "-15 17 -32 True\n",
      "-16 17 -33 True\n",
      "-16 18 -34 True\n",
      "-17 18 -35 True\n",
      "-17 19 -36 True\n",
      "-18 19 -37 True\n",
      "-19 19 -38 True\n",
      "-19 20 -39 True\n",
      "-20 20 -40 True\n"
     ]
    }
   ],
   "source": [
    "import math\n",
    "\n",
    "def squ(x):\n",
    "    if(x >= 0):\n",
    "        sr = math.sqrt(x)\n",
    "         \n",
    "        return ((sr*sr) == x)\n",
    "    return false\n",
    "\n",
    "\n",
    "(i,j,k) = (0,0,0)\n",
    "start = 10 \n",
    "end = 50\n",
    "for m in range(start, end):\n",
    "    if squ(m):\n",
    "        i = i - 1\n",
    "        k = k - 1\n",
    "    else:\n",
    "        j = j + 1\n",
    "        k = k - 1\n",
    "        \n",
    "    print(i,j,k,i-j == k)\n",
    "        \n",
    "        \n"
   ]
  },
  {
   "cell_type": "code",
   "execution_count": 1,
   "metadata": {},
   "outputs": [],
   "source": [
    "class Node:\n",
    "    def __init__(self, initial = None):\n",
    "        self.value = initial\n",
    "        self.next = None\n",
    "        return \n",
    "    \n",
    "    def isempty(self):\n",
    "        if self.value == None:\n",
    "            return(True)\n",
    "        else:\n",
    "            return(False)\n",
    "        \n",
    "    def append(self,v):\n",
    "        if self.isempty():\n",
    "            self.value = v\n",
    "        elif self.next == None:\n",
    "            newnode = Node(v)\n",
    "            self.next = newnode\n",
    "        else:\n",
    "            (self.next).append(v)\n",
    "        return\n",
    "    \n",
    "    def appendi(self,v):\n",
    "        if self.isempty():\n",
    "            self.value = v\n",
    "            return \n",
    "        temp = self \n",
    "        while temp.next != None:\n",
    "            temp = temp.next \n",
    "        newnode = Node(v)\n",
    "        temp.next = newnode\n",
    "        return\n",
    "        \n",
    "    def insert(self,v):\n",
    "        if self.isempty():\n",
    "            self.value = v\n",
    "            return\n",
    "        newnode = Node(v)\n",
    "        #Exchange values in self and newnode\n",
    "        (self.value, newnode.value) = (newnode.value, self.value)\n",
    "        (self.next, newnode.next) = (newnode, self.next)\n",
    "        return\n",
    "\n",
    "    def delete(self,v):\n",
    "        if self.isempty():\n",
    "            return\n",
    "        if self.value == v:\n",
    "            self.value = None\n",
    "            if self.next != None:\n",
    "                self.value = self.next.value\n",
    "                self.next = self.next.next\n",
    "            return\n",
    "        else:\n",
    "            if self.next != None:\n",
    "                self.next.delete(v)\n",
    "            if self.next.value == None:\n",
    "                self.next = None \n",
    "        return \n",
    "        \n",
    "        \n",
    "    def deletei(self,v):\n",
    "        if self.isempty():\n",
    "            return\n",
    "        if self.value == v:  # Deleting the value in the first node\n",
    "            if self.next == None: # The singleton case\n",
    "                self.value = None \n",
    "        else:\n",
    "            self.value = self.next.value # When the self.next will not be none.\n",
    "            self.next = self.next.next\n",
    "        return\n",
    "        temp = self #first v to delete \n",
    "        while temp.next != None:\n",
    "            if temp.next.value == v:\n",
    "                temp.next = temp.next.next\n",
    "                return\n",
    "            else:\n",
    "                temp = temp.next \n",
    "        return\n",
    "\n",
    "    \n",
    "    \n",
    "    def mymap(self, f):\n",
    "        if self.isempty():\n",
    "            return\n",
    "        else:\n",
    "            temp = self\n",
    "            while temp != None:\n",
    "                temp.value = f(temp.value)\n",
    "                temp = temp.next \n",
    "        return \n",
    "            \n",
    "    def __str__(self):\n",
    "        selflist = []\n",
    "        if self.value == None:\n",
    "            return(str(selflist))\n",
    "        temp = self\n",
    "        selflist.append(temp.value)\n",
    "     \n",
    "        while temp.next != None:\n",
    "            temp = temp.next\n",
    "            selflist.append(temp.value)\n",
    "        return(str(selflist))\n",
    "    "
   ]
  },
  {
   "cell_type": "code",
   "execution_count": 2,
   "metadata": {},
   "outputs": [
    {
     "name": "stdout",
     "output_type": "stream",
     "text": [
      "[1, 2, 3]\n"
     ]
    }
   ],
   "source": [
    "def func(x):\n",
    "    y = 2*x\n",
    "    return(y)\n",
    "\n",
    "l1 = Node(1)\n",
    "l1.appendi(2)\n",
    "l1.append(3)\n",
    "print(l1)"
   ]
  },
  {
   "cell_type": "code",
   "execution_count": 3,
   "metadata": {},
   "outputs": [
    {
     "name": "stdout",
     "output_type": "stream",
     "text": [
      "[2, 4, 6]\n"
     ]
    }
   ],
   "source": [
    "l1.mymap(func)\n",
    "print(l1)"
   ]
  },
  {
   "cell_type": "code",
   "execution_count": 57,
   "metadata": {},
   "outputs": [
    {
     "name": "stdout",
     "output_type": "stream",
     "text": [
      "3\n"
     ]
    }
   ],
   "source": [
    "l = [1,2,3,4]\n",
    "a = max(l)\n",
    "i =  l.index(max(l))\n",
    "print(i)"
   ]
  },
  {
   "cell_type": "code",
   "execution_count": 58,
   "metadata": {},
   "outputs": [],
   "source": [
    "def findMax(arr, n):\n",
    "    mi = 0\n",
    "    for i in range(0,n):\n",
    "        if arr[i] > arr[mi]:\n",
    "            mi = i\n",
    "    return mi"
   ]
  },
  {
   "cell_type": "code",
   "execution_count": 59,
   "metadata": {},
   "outputs": [
    {
     "data": {
      "text/plain": [
       "3"
      ]
     },
     "execution_count": 59,
     "metadata": {},
     "output_type": "execute_result"
    }
   ],
   "source": [
    "findMax(l,len(l))"
   ]
  },
  {
   "cell_type": "code",
   "execution_count": null,
   "metadata": {},
   "outputs": [],
   "source": [
    "class Dset:\n",
    "    "
   ]
  }
 ],
 "metadata": {
  "kernelspec": {
   "display_name": "Python 3",
   "language": "python",
   "name": "python3"
  },
  "language_info": {
   "codemirror_mode": {
    "name": "ipython",
    "version": 3
   },
   "file_extension": ".py",
   "mimetype": "text/x-python",
   "name": "python",
   "nbconvert_exporter": "python",
   "pygments_lexer": "ipython3",
   "version": "3.8.5"
  }
 },
 "nbformat": 4,
 "nbformat_minor": 4
}
