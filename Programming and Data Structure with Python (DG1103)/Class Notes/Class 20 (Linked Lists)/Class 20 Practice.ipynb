{
 "cells": [
  {
   "cell_type": "markdown",
   "metadata": {},
   "source": [
    "Designing our own list :\n",
    "\n",
    "- A List of sequence of nodes\n",
    "- Each node stores a value, pointes to next node"
   ]
  },
  {
   "cell_type": "markdown",
   "metadata": {},
   "source": [
    "# How do we represent the empty list?"
   ]
  },
  {
   "cell_type": "code",
   "execution_count": null,
   "metadata": {},
   "outputs": [],
   "source": [
    "l = None"
   ]
  },
  {
   "cell_type": "code",
   "execution_count": null,
   "metadata": {
    "scrolled": true
   },
   "outputs": [],
   "source": [
    "l.isempty()"
   ]
  },
  {
   "cell_type": "markdown",
   "metadata": {},
   "source": [
    "# Creating a List "
   ]
  },
  {
   "cell_type": "code",
   "execution_count": null,
   "metadata": {},
   "outputs": [],
   "source": [
    "class Node:\n",
    "    def __init__(self, initial = None):\n",
    "        self.value = initial\n",
    "        self.next = None\n",
    "        return\n",
    "    \n",
    "    def isempty(self):\n",
    "        if self.value == None :\n",
    "            return(True)\n",
    "        else:\n",
    "            return(False)\n",
    "    "
   ]
  },
  {
   "cell_type": "code",
   "execution_count": null,
   "metadata": {},
   "outputs": [],
   "source": [
    "l = Node()\n",
    "l.isempty()"
   ]
  },
  {
   "cell_type": "code",
   "execution_count": null,
   "metadata": {},
   "outputs": [],
   "source": [
    "l1 = Node(5)\n",
    "l1.isempty()"
   ]
  },
  {
   "cell_type": "markdown",
   "metadata": {},
   "source": [
    "# Append a value v"
   ]
  },
  {
   "cell_type": "markdown",
   "metadata": {},
   "source": [
    "Go to end of list add a new node with value V"
   ]
  },
  {
   "cell_type": "code",
   "execution_count": null,
   "metadata": {},
   "outputs": [],
   "source": [
    "def append(self,v):\n",
    "    if self.isempty():\n",
    "        self.value = v\n",
    "    elif self.next == None:\n",
    "        newnode = Node(v)\n",
    "        self.next = newnode\n",
    "    else:\n",
    "        (self.next).append(v)\n",
    "        \n",
    "    return"
   ]
  },
  {
   "cell_type": "code",
   "execution_count": null,
   "metadata": {},
   "outputs": [],
   "source": [
    "def appendi(self, v):\n",
    "    if self.isempty():\n",
    "        self.value = v\n",
    "    return\n",
    "    temp = self \n",
    "    while temp.next != None:\n",
    "        temp = temp.next\n",
    "    newnode = Node(v)\n",
    "    temp.next = newnode\n",
    "    return "
   ]
  },
  {
   "cell_type": "code",
   "execution_count": null,
   "metadata": {},
   "outputs": [],
   "source": [
    "l2 = Node(5)\n",
    "l3 = append(l2,4)\n",
    "print(l3)"
   ]
  },
  {
   "cell_type": "markdown",
   "metadata": {},
   "source": [
    "Iterative Process"
   ]
  },
  {
   "cell_type": "markdown",
   "metadata": {},
   "source": [
    "# Insert a Value v"
   ]
  },
  {
   "cell_type": "markdown",
   "metadata": {},
   "source": [
    "- Want to insert v at the head of the list \n",
    "- Create a new node with v\n",
    "\n",
    "     - But we cannot change where l points to. \n",
    "- Instead, swap the contents of v with the current first node"
   ]
  },
  {
   "cell_type": "code",
   "execution_count": null,
   "metadata": {},
   "outputs": [],
   "source": [
    "def insert(self,v):\n",
    "    if self.isempty():\n",
    "        self.value = v\n",
    "        return\n",
    "    newnode = Node(v)\n",
    "    #Exchange values in self and newnode\n",
    "    (self.value, newnode.value) = (newnode.value, self.value)\n",
    "    (self.next, newnode.next) = (newnode, self.next)\n",
    "    return"
   ]
  },
  {
   "cell_type": "markdown",
   "metadata": {},
   "source": [
    "# Deleting a Node (Delete by value :Removing the 1st occurance)"
   ]
  },
  {
   "cell_type": "markdown",
   "metadata": {},
   "source": [
    " - Do some plumbing on the list\n",
    " - Reset next pointer to bypass deleted node"
   ]
  },
  {
   "cell_type": "markdown",
   "metadata": {},
   "source": [
    "First we will look into the iterative solution:\n",
    "- $\\textbf{Case-1}$ deleting the value in the first node \n",
    "- $\\textbf{Case-2}$ deleting the value in the other nodes "
   ]
  },
  {
   "cell_type": "code",
   "execution_count": null,
   "metadata": {},
   "outputs": [],
   "source": [
    "def deletei(self,v):\n",
    "    if self.isempty():\n",
    "        return\n",
    "    if self.value == v:  # Deleting the value in the first node\n",
    "        if self.next == None: # The singleton case\n",
    "            self.value = None \n",
    "        else:\n",
    "            self.value = self.next.value # When the self.next will not be none.\n",
    "            self.next = self.next.next\n",
    "        return\n",
    "    temp = self #first v to delete \n",
    "    while temp.next != None:\n",
    "        if temp.next.value == v:\n",
    "            temp.next = temp.next.next\n",
    "            return\n",
    "        else:\n",
    "            temp = temp.next \n",
    "    return"
   ]
  },
  {
   "cell_type": "code",
   "execution_count": null,
   "metadata": {},
   "outputs": [],
   "source": [
    "def delete(self,v):\n",
    "    if self.isempty():\n",
    "        return\n",
    "    \n",
    "    if self.value == v: #Value to delete is in the 1st node\n",
    "        self.value = None #singleton case\n",
    "        if self.next != None:\n",
    "            self.value = self.next.value # copying the next value v2 to v1\n",
    "            self.next = self.next.next   # pointing the next next node from v1\n",
    "        return\n",
    "    else: #recursive delete\n",
    "        if self.next != None:\n",
    "            self.next.delete(v)\n",
    "            if self.next.value == None: # This step fixes the problem of the last node delete. Ref. Lecture Slide 20, page -26\n",
    "                self.next = None        # This is to delete the last None-None node \n",
    "    return\n",
    "            "
   ]
  },
  {
   "cell_type": "code",
   "execution_count": null,
   "metadata": {},
   "outputs": [],
   "source": [
    "def __str__(self):\n",
    "    selflist = []\n",
    "    if self.value == None:   # If it is empty list \n",
    "        return(str(selflist))\n",
    "    temp = self\n",
    "    selflist.append(temp.value) # append the current value of the list\n",
    "     \n",
    "    while temp.next != None: # walking down the list keep appending untill the temp.next != 0        temp = temp.next\n",
    "        selflist.append(temp.value)\n",
    "    return(str(selflist))"
   ]
  },
  {
   "cell_type": "markdown",
   "metadata": {},
   "source": [
    "# The Entire Code "
   ]
  },
  {
   "cell_type": "code",
   "execution_count": 1,
   "metadata": {},
   "outputs": [],
   "source": [
    "class Node:\n",
    "    def __init__(self, initial = None):\n",
    "        self.value = initial\n",
    "        self.next = None\n",
    "        return \n",
    "    \n",
    "    def isempty(self):\n",
    "        if self.value == None:\n",
    "            return(True)\n",
    "        else:\n",
    "            return(False)\n",
    "        \n",
    "    def append(self,v):\n",
    "        if self.isempty():\n",
    "            self.value = v\n",
    "        elif self.next == None:\n",
    "            newnode = Node(v)\n",
    "            self.next = newnode\n",
    "        else:\n",
    "            (self.next).append(v)\n",
    "        return\n",
    "    \n",
    "    def appendi(self,v):\n",
    "        if self.isempty():\n",
    "            self.value = v\n",
    "            return \n",
    "        temp = self \n",
    "        while temp.next != None:\n",
    "            temp = temp.next \n",
    "        newnode = Node(v)\n",
    "        temp.next = newnode\n",
    "        return\n",
    "        \n",
    "    def insert(self,v):\n",
    "        if self.isempty():\n",
    "            self.value = v\n",
    "            return\n",
    "        newnode = Node(v)\n",
    "        #Exchange values in self and newnode\n",
    "        (self.value, newnode.value) = (newnode.value, self.value)\n",
    "        (self.next, newnode.next) = (newnode, self.next)\n",
    "        return\n",
    "\n",
    "    def delete(self,v):\n",
    "        if self.isempty():\n",
    "            return\n",
    "        if self.value == v:\n",
    "            self.value = None\n",
    "            if self.next != None:\n",
    "                self.value = self.next.value\n",
    "                self.next = self.next.next\n",
    "            return\n",
    "        else:\n",
    "            if self.next != None:\n",
    "                self.next.delete(v)\n",
    "            if self.next.value == None:\n",
    "                self.next = None \n",
    "        return \n",
    "        \n",
    "        \n",
    "    def deletei(self,v):\n",
    "        if self.isempty():\n",
    "            return\n",
    "        if self.value == v:  # Deleting the value in the first node\n",
    "            if self.next == None: # The singleton case\n",
    "                self.value = None \n",
    "        else:\n",
    "            self.value = self.next.value # When the self.next will not be none.\n",
    "            self.next = self.next.next\n",
    "        return\n",
    "        temp = self #first v to delete \n",
    "        while temp.next != None:\n",
    "            if temp.next.value == v:\n",
    "                temp.next = temp.next.next\n",
    "                return\n",
    "            else:\n",
    "                temp = temp.next \n",
    "        return\n",
    "        \n",
    "            \n",
    "    def __str__(self):\n",
    "        selflist = []\n",
    "        if self.value == None:\n",
    "            return(str(selflist))\n",
    "        temp = self\n",
    "        selflist.append(temp.value)\n",
    "     \n",
    "        while temp.next != None:\n",
    "            temp = temp.next\n",
    "            selflist.append(temp.value)\n",
    "        return(str(selflist))"
   ]
  },
  {
   "cell_type": "code",
   "execution_count": 2,
   "metadata": {},
   "outputs": [
    {
     "name": "stdout",
     "output_type": "stream",
     "text": [
      "None\n"
     ]
    }
   ],
   "source": [
    "l = [1,2,3]\n",
    "l = l.append(4)\n",
    "print(l)\n",
    "\n",
    "#don't assign likewise. as l.append(4) returns None.. we are assigning l to none. "
   ]
  },
  {
   "cell_type": "code",
   "execution_count": 3,
   "metadata": {},
   "outputs": [
    {
     "name": "stdout",
     "output_type": "stream",
     "text": [
      "[1, 2, 3]\n"
     ]
    }
   ],
   "source": [
    "l1 = Node(1)\n",
    "l1.appendi(2)\n",
    "l1.append(3)\n",
    "print(l1)"
   ]
  },
  {
   "cell_type": "code",
   "execution_count": 4,
   "metadata": {},
   "outputs": [
    {
     "name": "stdout",
     "output_type": "stream",
     "text": [
      "[5, 1, 2, 3]\n"
     ]
    }
   ],
   "source": [
    "l1.insert(5)\n",
    "print(l1)"
   ]
  },
  {
   "cell_type": "code",
   "execution_count": 5,
   "metadata": {},
   "outputs": [
    {
     "name": "stdout",
     "output_type": "stream",
     "text": [
      "[5, 1, 3]\n"
     ]
    }
   ],
   "source": [
    "l1.delete(2)\n",
    "print(l1)"
   ]
  }
 ],
 "metadata": {
  "kernelspec": {
   "display_name": "Python 3",
   "language": "python",
   "name": "python3"
  },
  "language_info": {
   "codemirror_mode": {
    "name": "ipython",
    "version": 3
   },
   "file_extension": ".py",
   "mimetype": "text/x-python",
   "name": "python",
   "nbconvert_exporter": "python",
   "pygments_lexer": "ipython3",
   "version": "3.8.5"
  }
 },
 "nbformat": 4,
 "nbformat_minor": 4
}
