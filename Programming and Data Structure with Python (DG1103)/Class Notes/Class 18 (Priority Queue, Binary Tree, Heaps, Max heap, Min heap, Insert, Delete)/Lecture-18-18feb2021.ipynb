{
 "cells": [
  {
   "cell_type": "markdown",
   "metadata": {},
   "source": [
    "# Programming and Data Structures with Python\n",
    "# Lecture 18, 18 February 2021"
   ]
  },
  {
   "cell_type": "code",
   "execution_count": 1,
   "metadata": {},
   "outputs": [],
   "source": [
    "# Heap navigation, parent to children, child to parent\n",
    "\n",
    "def left(i):\n",
    "    return(2*i+1)\n",
    "\n",
    "def right(i):\n",
    "    return(2*i+2)\n",
    "\n",
    "def parent(i):\n",
    "    return((i-1)//2)\n",
    "\n",
    "# Restore heap property\n",
    "\n",
    "# (a) Downwards from l[i] to leaf\n",
    "\n",
    "def fixheapdown(l,i):\n",
    "    if right(i) < len(l):                           # Both children lie within the heap\n",
    "        if l[i] < l[left(i)] or l[i] < l[right(i)]: # Is a fix needed?\n",
    "            if l[left(i)] >= l[right(i)]:           # Swap with larger child\n",
    "                (l[i],l[left(i)])  = (l[left(i)],l[i])\n",
    "                fixheapdown(l,left(i))              # Continue fixing down the heap\n",
    "            else:\n",
    "                (l[i],l[right(i)]) = (l[right(i)],l[i])\n",
    "                fixheapdown(l,right(i))             # Continue fixing down the heap\n",
    "    elif left(i) < len(l):                          # Only left child within the heap\n",
    "        if l[i] < l[left(i)]:                       # Is a fix needed?\n",
    "            (l[i],l[left(i)])  = (l[left(i)],l[i])  # Swap with left child\n",
    "            fixheapdown(l,left(i))                  # Not really needed, only left child must be leaf\n",
    "\n",
    "# (b) Upwards from l[i] to roat\n",
    "\n",
    "def fixheapup(l,i):\n",
    "    if i > 0:\n",
    "        if l[i] > l[parent(i)]:                       # Is a fix needed?\n",
    "            (l[i],l[parent(i)]) = (l[parent(i)],l[i]) # Swap with parent\n",
    "            fixheapup(l,parent(i))                    # Continue fixing up the heap\n",
    "            \n",
    "# insert() uses fixheapup()\n",
    "            \n",
    "def insertheap(l,x):\n",
    "    l.append(x)      # Add new value at the end\n",
    "    i = len(l) - 1\n",
    "    fixheapup(l,i)   # Restore heap property\n",
    "    \n",
    "# deletemax() uses fixheapdown()\n",
    "\n",
    "def deletemax(l):\n",
    "    maxval = l[0]\n",
    "    if (len(l) > 1):\n",
    "        l[0] = l.pop()   # Remove the last node, move value to root\n",
    "        fixheapdown(l,0) # Restore heap property\n",
    "    return(maxval)\n",
    "\n",
    "# Slow heapify using repeated insert()\n",
    "\n",
    "def heapifyslow(l):\n",
    "    h = []\n",
    "    for i in range(0,len(l)):\n",
    "        insertheap(h,l[i])\n",
    "    l[:] = h[:]\n",
    "    \n",
    "# Fast heapify, scan list from right to left, fix heap from l[i] to leaf\n",
    "            \n",
    "def heapify(l):\n",
    "    for i in range(len(l)-1,-1,-1):\n",
    "        fixheapdown(l,i)\n",
    "\n",
    "# Report positions where heap property is violated\n",
    "\n",
    "def checkheap(l):\n",
    "    for i in range(0,len(l)):\n",
    "        if right(i) < len(l):\n",
    "            if l[i] < l[left(i)] or l[i] < l[right(i)]:\n",
    "                print(\"i:\",i,l[i],l[left(i)],l[right(i)])\n",
    "        elif left(i) < len(l):\n",
    "            if l[i] < l[left(i)]:\n",
    "                print(\"i:\",i,l[i],l[left(i)])\n"
   ]
  },
  {
   "cell_type": "markdown",
   "metadata": {},
   "source": [
    "### Heapify slow"
   ]
  },
  {
   "cell_type": "code",
   "execution_count": 2,
   "metadata": {},
   "outputs": [],
   "source": [
    "l = list(range(0,1000000))\n",
    "heapifyslow(l)"
   ]
  },
  {
   "cell_type": "markdown",
   "metadata": {},
   "source": [
    "### Heapify fast"
   ]
  },
  {
   "cell_type": "code",
   "execution_count": 3,
   "metadata": {},
   "outputs": [],
   "source": [
    "l = list(range(0,1000000))\n",
    "heapify(l)"
   ]
  },
  {
   "cell_type": "markdown",
   "metadata": {},
   "source": [
    "### Create a heap and manipulate it"
   ]
  },
  {
   "cell_type": "code",
   "execution_count": 4,
   "metadata": {},
   "outputs": [
    {
     "data": {
      "text/plain": [
       "[98,\n",
       " 92,\n",
       " 96,\n",
       " 76,\n",
       " 90,\n",
       " 94,\n",
       " 60,\n",
       " 68,\n",
       " 74,\n",
       " 84,\n",
       " 88,\n",
       " 48,\n",
       " 52,\n",
       " 56,\n",
       " 58,\n",
       " 64,\n",
       " 66,\n",
       " 72,\n",
       " 36,\n",
       " 80,\n",
       " 82,\n",
       " 86,\n",
       " 44,\n",
       " 46,\n",
       " 22,\n",
       " 50,\n",
       " 24,\n",
       " 54,\n",
       " 26,\n",
       " 12,\n",
       " 28,\n",
       " 62,\n",
       " 30,\n",
       " 14,\n",
       " 32,\n",
       " 70,\n",
       " 34,\n",
       " 16,\n",
       " 6,\n",
       " 78,\n",
       " 38,\n",
       " 18,\n",
       " 40,\n",
       " 2,\n",
       " 42,\n",
       " 20,\n",
       " 8,\n",
       " 10,\n",
       " 4,\n",
       " 0]"
      ]
     },
     "execution_count": 4,
     "metadata": {},
     "output_type": "execute_result"
    }
   ],
   "source": [
    "l = [2*i for i in range(50)]\n",
    "heapify(l)\n",
    "l"
   ]
  },
  {
   "cell_type": "code",
   "execution_count": 5,
   "metadata": {},
   "outputs": [
    {
     "data": {
      "text/plain": [
       "(98,\n",
       " [96,\n",
       "  92,\n",
       "  94,\n",
       "  76,\n",
       "  90,\n",
       "  52,\n",
       "  60,\n",
       "  68,\n",
       "  74,\n",
       "  84,\n",
       "  88,\n",
       "  48,\n",
       "  50,\n",
       "  56,\n",
       "  58,\n",
       "  64,\n",
       "  66,\n",
       "  72,\n",
       "  36,\n",
       "  80,\n",
       "  82,\n",
       "  86,\n",
       "  44,\n",
       "  46,\n",
       "  22,\n",
       "  0,\n",
       "  24,\n",
       "  54,\n",
       "  26,\n",
       "  12,\n",
       "  28,\n",
       "  62,\n",
       "  30,\n",
       "  14,\n",
       "  32,\n",
       "  70,\n",
       "  34,\n",
       "  16,\n",
       "  6,\n",
       "  78,\n",
       "  38,\n",
       "  18,\n",
       "  40,\n",
       "  2,\n",
       "  42,\n",
       "  20,\n",
       "  8,\n",
       "  10,\n",
       "  4])"
      ]
     },
     "execution_count": 5,
     "metadata": {},
     "output_type": "execute_result"
    }
   ],
   "source": [
    "deletemax(l), l"
   ]
  },
  {
   "cell_type": "code",
   "execution_count": 6,
   "metadata": {},
   "outputs": [
    {
     "data": {
      "text/plain": [
       "[96,\n",
       " 92,\n",
       " 94,\n",
       " 76,\n",
       " 90,\n",
       " 52,\n",
       " 60,\n",
       " 68,\n",
       " 74,\n",
       " 84,\n",
       " 88,\n",
       " 48,\n",
       " 50,\n",
       " 56,\n",
       " 58,\n",
       " 64,\n",
       " 66,\n",
       " 72,\n",
       " 36,\n",
       " 80,\n",
       " 82,\n",
       " 86,\n",
       " 44,\n",
       " 46,\n",
       " 22,\n",
       " 0,\n",
       " 24,\n",
       " 54,\n",
       " 26,\n",
       " 12,\n",
       " 28,\n",
       " 62,\n",
       " 30,\n",
       " 14,\n",
       " 32,\n",
       " 70,\n",
       " 34,\n",
       " 16,\n",
       " 6,\n",
       " 78,\n",
       " 38,\n",
       " 18,\n",
       " 40,\n",
       " 2,\n",
       " 42,\n",
       " 20,\n",
       " 8,\n",
       " 10,\n",
       " 4,\n",
       " 18]"
      ]
     },
     "execution_count": 6,
     "metadata": {},
     "output_type": "execute_result"
    }
   ],
   "source": [
    "insertheap(l,18)\n",
    "l"
   ]
  },
  {
   "cell_type": "markdown",
   "metadata": {},
   "source": [
    "### Heapsort (uses a second list)"
   ]
  },
  {
   "cell_type": "code",
   "execution_count": 7,
   "metadata": {},
   "outputs": [],
   "source": [
    "def heapsort(l):\n",
    "    heapify(l)\n",
    "    sortedl = []\n",
    "    size = len(l)\n",
    "    for i in range(size):\n",
    "        nextmax = deletemax(l)\n",
    "        sortedl.append(nextmax)\n",
    "    l[:] = sortedl[:]"
   ]
  },
  {
   "cell_type": "code",
   "execution_count": 8,
   "metadata": {},
   "outputs": [
    {
     "data": {
      "text/plain": [
       "[96,\n",
       " 94,\n",
       " 92,\n",
       " 90,\n",
       " 88,\n",
       " 86,\n",
       " 84,\n",
       " 82,\n",
       " 80,\n",
       " 78,\n",
       " 76,\n",
       " 74,\n",
       " 72,\n",
       " 70,\n",
       " 68,\n",
       " 66,\n",
       " 64,\n",
       " 62,\n",
       " 60,\n",
       " 58,\n",
       " 56,\n",
       " 54,\n",
       " 52,\n",
       " 50,\n",
       " 48,\n",
       " 46,\n",
       " 44,\n",
       " 42,\n",
       " 40,\n",
       " 38,\n",
       " 36,\n",
       " 34,\n",
       " 32,\n",
       " 30,\n",
       " 28,\n",
       " 26,\n",
       " 24,\n",
       " 22,\n",
       " 20,\n",
       " 18,\n",
       " 18,\n",
       " 16,\n",
       " 14,\n",
       " 12,\n",
       " 10,\n",
       " 8,\n",
       " 6,\n",
       " 4,\n",
       " 2,\n",
       " 0]"
      ]
     },
     "execution_count": 8,
     "metadata": {},
     "output_type": "execute_result"
    }
   ],
   "source": [
    "heapsort(l)\n",
    "l"
   ]
  }
 ],
 "metadata": {
  "kernelspec": {
   "display_name": "Python 3",
   "language": "python",
   "name": "python3"
  },
  "language_info": {
   "codemirror_mode": {
    "name": "ipython",
    "version": 3
   },
   "file_extension": ".py",
   "mimetype": "text/x-python",
   "name": "python",
   "nbconvert_exporter": "python",
   "pygments_lexer": "ipython3",
   "version": "3.8.5"
  }
 },
 "nbformat": 4,
 "nbformat_minor": 4
}
