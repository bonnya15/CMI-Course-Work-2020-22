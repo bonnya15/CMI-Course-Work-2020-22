{
 "cells": [
  {
   "cell_type": "markdown",
   "metadata": {},
   "source": [
    "# Programming and Data Structures with Python\n",
    "# Lecture 10, 21 January 2021"
   ]
  },
  {
   "cell_type": "code",
   "execution_count": 1,
   "metadata": {},
   "outputs": [],
   "source": [
    "def SelectionSort(l):\n",
    "    # Scan slices l[0:len(l)], l[1:len(l)], ...\n",
    "    for start in range(len(l)):\n",
    "        # Find minimum value in slice . . .\n",
    "        minpos = start\n",
    "        for i in range(start,len(l)):\n",
    "            if l[i] < l[minpos]:\n",
    "                minpos = i\n",
    "        # . . . and move it to start of slice\n",
    "        (l[start],l[minpos]) = (l[minpos],l[start])"
   ]
  },
  {
   "cell_type": "code",
   "execution_count": 2,
   "metadata": {},
   "outputs": [],
   "source": [
    "l = list(range(10,0,-1))"
   ]
  },
  {
   "cell_type": "code",
   "execution_count": 3,
   "metadata": {},
   "outputs": [
    {
     "data": {
      "text/plain": [
       "[10, 9, 8, 7, 6, 5, 4, 3, 2, 1]"
      ]
     },
     "execution_count": 3,
     "metadata": {},
     "output_type": "execute_result"
    }
   ],
   "source": [
    "l"
   ]
  },
  {
   "cell_type": "code",
   "execution_count": 4,
   "metadata": {},
   "outputs": [],
   "source": [
    "SelectionSort(l)"
   ]
  },
  {
   "cell_type": "code",
   "execution_count": 5,
   "metadata": {},
   "outputs": [
    {
     "data": {
      "text/plain": [
       "[1, 2, 3, 4, 5, 6, 7, 8, 9, 10]"
      ]
     },
     "execution_count": 5,
     "metadata": {},
     "output_type": "execute_result"
    }
   ],
   "source": [
    "l"
   ]
  },
  {
   "cell_type": "code",
   "execution_count": 6,
   "metadata": {},
   "outputs": [],
   "source": [
    "l = list(range(100,90,-1))"
   ]
  },
  {
   "cell_type": "code",
   "execution_count": 7,
   "metadata": {},
   "outputs": [
    {
     "data": {
      "text/plain": [
       "[100, 99, 98, 97, 96, 95, 94, 93, 92, 91]"
      ]
     },
     "execution_count": 7,
     "metadata": {},
     "output_type": "execute_result"
    }
   ],
   "source": [
    "l"
   ]
  },
  {
   "cell_type": "code",
   "execution_count": 8,
   "metadata": {},
   "outputs": [],
   "source": [
    "def InsertionSort(seq):\n",
    "    isort(seq,len(seq))\n",
    "    \n",
    "def isort(seq,k): # Sort slice seq[0:k]\n",
    "    if k > 1:\n",
    "        isort(seq,k-1)\n",
    "        insert(seq,k-1)\n",
    "\n",
    "def insert(seq,k): # Insert seq[k] into sorted seq[0:k-1]\n",
    "    pos = k\n",
    "    while pos > 0 and seq[pos] < seq[pos-1]:\n",
    "        (seq[pos],seq[pos-1]) = (seq[pos-1],seq[pos])\n",
    "        pos = pos-1"
   ]
  },
  {
   "cell_type": "code",
   "execution_count": 9,
   "metadata": {},
   "outputs": [],
   "source": [
    "InsertionSort(l)"
   ]
  },
  {
   "cell_type": "code",
   "execution_count": 10,
   "metadata": {},
   "outputs": [
    {
     "data": {
      "text/plain": [
       "[91, 92, 93, 94, 95, 96, 97, 98, 99, 100]"
      ]
     },
     "execution_count": 10,
     "metadata": {},
     "output_type": "execute_result"
    }
   ],
   "source": [
    "l"
   ]
  },
  {
   "cell_type": "code",
   "execution_count": 11,
   "metadata": {},
   "outputs": [],
   "source": [
    "def merge(A,B): # Merge A[0:m],B[0:n]\n",
    "    (C,m,n) = ([],len(A),len(B))\n",
    "    (i,j) = (0,0) # Current positions in A,B\n",
    "    while i+j < m+n: # i+j is number of elements merged so far\n",
    "        if i == m: # Case 1: A is empty\n",
    "            C.append(B[j])\n",
    "            j = j+1\n",
    "        elif j == n: # Case 2: B is empty\n",
    "            C.append(A[i])\n",
    "            i = i+1\n",
    "        elif A[i] <= B[j]: # Case 3: Head of A is smaller\n",
    "            C.append(A[i])\n",
    "            i = i+1\n",
    "        elif A[i] > B[j]: # Case 4: Head of B is smaller\n",
    "            C.append(B[j])\n",
    "            j = j+1\n",
    "    return(C)"
   ]
  },
  {
   "cell_type": "code",
   "execution_count": 12,
   "metadata": {},
   "outputs": [
    {
     "data": {
      "text/plain": [
       "[1, 2, 3, 4, 5, 6]"
      ]
     },
     "execution_count": 12,
     "metadata": {},
     "output_type": "execute_result"
    }
   ],
   "source": [
    "merge([1,3,5],[2,4,6])"
   ]
  },
  {
   "cell_type": "code",
   "execution_count": 13,
   "metadata": {},
   "outputs": [],
   "source": [
    "def mergesort(A,left,right):\n",
    "    # Sort the slice A[left:right]\n",
    "    if right - left <= 1: # Base case\n",
    "        return(A[left:right])\n",
    "    if right - left > 1:  # Recursive call\n",
    "        mid = (left+right)//2\n",
    "        L = mergesort(A,left,mid)\n",
    "        R = mergesort(A,mid,right)\n",
    "        return(merge(L,R))"
   ]
  },
  {
   "cell_type": "code",
   "execution_count": 14,
   "metadata": {},
   "outputs": [
    {
     "data": {
      "text/plain": [
       "[1, 2, 3, 4, 5, 6]"
      ]
     },
     "execution_count": 14,
     "metadata": {},
     "output_type": "execute_result"
    }
   ],
   "source": [
    "mergesort([1,3,5,2,4,6],0,6)"
   ]
  }
 ],
 "metadata": {
  "kernelspec": {
   "display_name": "Python 3",
   "language": "python",
   "name": "python3"
  },
  "language_info": {
   "codemirror_mode": {
    "name": "ipython",
    "version": 3
   },
   "file_extension": ".py",
   "mimetype": "text/x-python",
   "name": "python",
   "nbconvert_exporter": "python",
   "pygments_lexer": "ipython3",
   "version": "3.7.7"
  }
 },
 "nbformat": 4,
 "nbformat_minor": 4
}
