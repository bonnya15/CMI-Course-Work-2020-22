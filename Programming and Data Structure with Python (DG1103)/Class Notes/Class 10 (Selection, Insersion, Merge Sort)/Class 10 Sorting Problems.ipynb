{
 "cells": [
  {
   "cell_type": "markdown",
   "metadata": {},
   "source": [
    "Selection Sort\n",
    "- Time complexity is $O(n^2)$"
   ]
  },
  {
   "cell_type": "code",
   "execution_count": 21,
   "metadata": {},
   "outputs": [],
   "source": [
    "def SelectionSort(l):\n",
    "    for start in range(len(l)):\n",
    "        minpos = start\n",
    "        for i in range(start+1 , len(l)):\n",
    "            if l[i] < l[minpos]:\n",
    "                minpos = i\n",
    "        l[start] , l[minpos] = l[minpos] , l[start]\n",
    "    return(l)\n",
    "    "
   ]
  },
  {
   "cell_type": "code",
   "execution_count": 18,
   "metadata": {},
   "outputs": [],
   "source": [
    "def SelectionSort_1(l):\n",
    "    for i in range(len(l)):\n",
    "        temp = min(l[i:len(l)])\n",
    "        pos = l.index(temp)\n",
    "        l[i] , l[pos] = l[pos] , l[i]\n",
    "    return(l)"
   ]
  },
  {
   "cell_type": "code",
   "execution_count": 19,
   "metadata": {},
   "outputs": [
    {
     "data": {
      "text/plain": [
       "[13, 23, 56, 74, 79]"
      ]
     },
     "execution_count": 19,
     "metadata": {},
     "output_type": "execute_result"
    }
   ],
   "source": [
    "SelectionSort_1([74,23,79,56,13])"
   ]
  },
  {
   "cell_type": "code",
   "execution_count": 22,
   "metadata": {},
   "outputs": [
    {
     "data": {
      "text/plain": [
       "[13, 23, 56, 74, 79]"
      ]
     },
     "execution_count": 22,
     "metadata": {},
     "output_type": "execute_result"
    }
   ],
   "source": [
    "l = [74,23,56,79,13]\n",
    "SelectionSort(l)"
   ]
  },
  {
   "cell_type": "markdown",
   "metadata": {},
   "source": [
    "Inserion Sort"
   ]
  },
  {
   "cell_type": "code",
   "execution_count": 59,
   "metadata": {},
   "outputs": [],
   "source": [
    "def InsertionSort(l):\n",
    "    for i in range(1,len(l)):\n",
    "        key = l[i]\n",
    "        j = i-1\n",
    "        while j >= 0 and l[j] > key:    \n",
    "            l[j+1] = l[j]\n",
    "            j = j-1\n",
    "        l[j+1] = key \n",
    "    return(l)\n",
    "    "
   ]
  },
  {
   "cell_type": "code",
   "execution_count": 60,
   "metadata": {},
   "outputs": [
    {
     "data": {
      "text/plain": [
       "[13, 23, 56, 74, 79]"
      ]
     },
     "execution_count": 60,
     "metadata": {},
     "output_type": "execute_result"
    }
   ],
   "source": [
    "InsertionSort(l)"
   ]
  },
  {
   "cell_type": "code",
   "execution_count": 43,
   "metadata": {},
   "outputs": [],
   "source": [
    "def insertionSort_rec(l):\n",
    "    isort(l,len(l))\n",
    "    return(l)\n",
    "\n",
    "def isort(l,k):\n",
    "    if k > 1:\n",
    "        isort(l,k-1)\n",
    "        insert(l,k-1)\n",
    "    return(l)\n",
    "\n",
    "def insert(l,k):\n",
    "    pos = k\n",
    "    while pos > 0 and l[pos] < l[pos-1]:\n",
    "        l[pos] , l[pos-1] = l[pos-1] , l[pos]\n",
    "        pos -= 1\n",
    "    return(l)"
   ]
  },
  {
   "cell_type": "code",
   "execution_count": 44,
   "metadata": {},
   "outputs": [
    {
     "data": {
      "text/plain": [
       "[1, 3, 5, 7, 9]"
      ]
     },
     "execution_count": 44,
     "metadata": {},
     "output_type": "execute_result"
    }
   ],
   "source": [
    "insertionSort_rec([1,5,7,9,3])"
   ]
  },
  {
   "cell_type": "markdown",
   "metadata": {},
   "source": [
    "Bubble Sort "
   ]
  },
  {
   "cell_type": "code",
   "execution_count": 37,
   "metadata": {},
   "outputs": [],
   "source": [
    "def bubbleSort(l):\n",
    "    for i in range (len(l)):\n",
    "        flag = True \n",
    "        for j in range (len(l) - i - 1):\n",
    "            if l[j] > l[j+1]:\n",
    "                l[j] , l[j+1] = l[j+1] , l[j]\n",
    "                flag = False\n",
    "                \n",
    "    return(l)           \n",
    "            "
   ]
  },
  {
   "cell_type": "code",
   "execution_count": 39,
   "metadata": {},
   "outputs": [
    {
     "data": {
      "text/plain": [
       "[13, 23, 56, 74, 79]"
      ]
     },
     "execution_count": 39,
     "metadata": {},
     "output_type": "execute_result"
    }
   ],
   "source": [
    "bubbleSort(l)"
   ]
  },
  {
   "cell_type": "markdown",
   "metadata": {},
   "source": [
    "Merge Sort"
   ]
  },
  {
   "cell_type": "code",
   "execution_count": 35,
   "metadata": {},
   "outputs": [],
   "source": [
    "def merge(left,right):\n",
    "    if len(left) == 0:\n",
    "        return right\n",
    "    if len(right) == 0:\n",
    "        return left\n",
    "    \n",
    "    result = []\n",
    "    index_left = index_right = 0\n",
    "    while len(result) < len(left) + len(right):\n",
    "        if left[index_left] < right[index_right]:\n",
    "            result.append(left[index_left])\n",
    "            index_left += 1\n",
    "        else:\n",
    "            result.append(right[index_right])\n",
    "            index_right += 1\n",
    "        if index_right == len(right):\n",
    "            result += left[index_left:]\n",
    "            break\n",
    "        if index_left == len(left):\n",
    "            result += right[index_right:]\n",
    "            break\n",
    "            \n",
    "    return result\n",
    "\n",
    "def mergeSort(l):\n",
    "    if len(l) < 2:\n",
    "        return l \n",
    "    else:\n",
    "        midpoint = len(l)// 2\n",
    "    \n",
    "    merge(mergeSort(l[:midpoint]) , mergeSort(l[midpoint:]))\n",
    "    return l\n",
    "        \n",
    "    \n",
    "    "
   ]
  },
  {
   "cell_type": "code",
   "execution_count": 36,
   "metadata": {},
   "outputs": [
    {
     "data": {
      "text/plain": [
       "[13, 23, 56, 74, 79]"
      ]
     },
     "execution_count": 36,
     "metadata": {},
     "output_type": "execute_result"
    }
   ],
   "source": [
    "mergeSort(l)"
   ]
  },
  {
   "cell_type": "code",
   "execution_count": 101,
   "metadata": {},
   "outputs": [],
   "source": [
    "def binarySearch(x,y, l,r):\n",
    "    if (l-r == 0):\n",
    "        return(False)\n",
    "    mid = (l+r) // 2\n",
    "    if y == x[mid]:\n",
    "        return(mid)\n",
    "    if y < x[mid]:\n",
    "        return(binarySearch(x,y,l,mid))\n",
    "    else:\n",
    "        return(binarySearch(x,y,mid+1 , r))\n",
    "   \n",
    "    "
   ]
  },
  {
   "cell_type": "code",
   "execution_count": 104,
   "metadata": {},
   "outputs": [
    {
     "data": {
      "text/plain": [
       "0"
      ]
     },
     "execution_count": 104,
     "metadata": {},
     "output_type": "execute_result"
    }
   ],
   "source": [
    "binarySearch(l,13,0,len(l))"
   ]
  },
  {
   "cell_type": "code",
   "execution_count": 133,
   "metadata": {},
   "outputs": [],
   "source": [
    "def binarySearch2(l,a,low,high):\n",
    "    while high >= low:\n",
    "        mid  = (high + low) //2\n",
    "        if a == l[mid]:\n",
    "            return(mid)\n",
    "        if a < l[mid]:\n",
    "            return(binarySearch2(l,a,low,mid-1))\n",
    "        else:\n",
    "            return(binarySearch2(l,a,mid+1, high))\n",
    "    else:\n",
    "        return('Not in the List')"
   ]
  },
  {
   "cell_type": "code",
   "execution_count": 134,
   "metadata": {},
   "outputs": [
    {
     "data": {
      "text/plain": [
       "3"
      ]
     },
     "execution_count": 134,
     "metadata": {},
     "output_type": "execute_result"
    }
   ],
   "source": [
    "binarySearch2(l,74,0,len(l))"
   ]
  },
  {
   "cell_type": "code",
   "execution_count": null,
   "metadata": {},
   "outputs": [],
   "source": []
  }
 ],
 "metadata": {
  "kernelspec": {
   "display_name": "Python 3",
   "language": "python",
   "name": "python3"
  },
  "language_info": {
   "codemirror_mode": {
    "name": "ipython",
    "version": 3
   },
   "file_extension": ".py",
   "mimetype": "text/x-python",
   "name": "python",
   "nbconvert_exporter": "python",
   "pygments_lexer": "ipython3",
   "version": "3.8.5"
  }
 },
 "nbformat": 4,
 "nbformat_minor": 4
}
