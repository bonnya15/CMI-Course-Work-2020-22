{
 "cells": [
  {
   "cell_type": "code",
   "execution_count": 7,
   "metadata": {},
   "outputs": [
    {
     "name": "stdout",
     "output_type": "stream",
     "text": [
      "How many Queens? 8\n",
      "(0, 0)\n",
      "(1, 4)\n",
      "(2, 7)\n",
      "(3, 5)\n",
      "(4, 2)\n",
      "(5, 6)\n",
      "(6, 1)\n",
      "(7, 3)\n"
     ]
    }
   ],
   "source": [
    "def initialize(board,n):\n",
    "    for key in ['queen' , 'row' , 'col' , 'nwtose' , 'swtone']:\n",
    "        board[key] = {}\n",
    "    for i in range(n):\n",
    "        board['queen'][i] = -1\n",
    "        board['row'][i] = 0\n",
    "        board['col'][i] = 0\n",
    "    for i in range(-(n-1) , n):\n",
    "        board['nwtose'][i] = 0\n",
    "    for i in range(2*n-1):\n",
    "        board['swtone'][i] = 0\n",
    "        \n",
    "def printboard(board):\n",
    "    for row in sorted(board['queen'].keys()):\n",
    "        print((row,board['queen'][row]))\n",
    "        \n",
    "def free(i,j,board):\n",
    "    return(board['row'][i] == 0 and board['col'][j] == 0 and \n",
    "           board['nwtose'][j-i] == 0 and board['swtone'][j+i] == 0 )\n",
    "   \n",
    "def addqueen(i,j,board):\n",
    "    board['queen'][i] = j\n",
    "    board['row'][i] = 1\n",
    "    board['col'][j] = 1\n",
    "    board['nwtose'][j-i] = 1\n",
    "    board['swtone'][j+i] = 1 \n",
    "    \n",
    "def undoqueen(i,j,board):\n",
    "    board['queen'][i] = -1\n",
    "    board['row'][i] = 0\n",
    "    board['col'][j] = 0\n",
    "    board['nwtose'][j-i] = 0\n",
    "    board['swtone'][j+i] = 0\n",
    "    \n",
    "def placequeen(i,board):\n",
    "    n = len(board['queen'].keys())\n",
    "    for j in range(n):\n",
    "        if free(i,j,board):\n",
    "            addqueen(i,j,board)\n",
    "            if i == n-1:\n",
    "                return(True)\n",
    "            else:\n",
    "                extendsoln = placequeen(i+1 , board)\n",
    "            if extendsoln:\n",
    "                return(True)\n",
    "            else:\n",
    "                undoqueen(i,j,board)\n",
    "    else:\n",
    "       return(False)\n",
    "    \n",
    "    \n",
    " \n",
    "board = {}\n",
    "n = int(input(\"How many Queens? \"))\n",
    "initialize(board,n)\n",
    "if placequeen(0,board):\n",
    "    printboard(board)\n",
    "    "
   ]
  },
  {
   "cell_type": "code",
   "execution_count": 8,
   "metadata": {},
   "outputs": [
    {
     "data": {
      "text/plain": [
       "[[-1, -1, -1, -1, -1, -1, -1, -1],\n",
       " [-1, -1, -1, -1, -1, -1, -1, -1],\n",
       " [-1, -1, -1, -1, -1, -1, -1, -1],\n",
       " [-1, -1, -1, -1, -1, -1, -1, -1],\n",
       " [-1, -1, -1, -1, -1, -1, -1, -1],\n",
       " [-1, -1, -1, -1, -1, -1, -1, -1],\n",
       " [-1, -1, -1, -1, -1, -1, -1, -1],\n",
       " [-1, -1, -1, -1, -1, -1, -1, -1]]"
      ]
     },
     "execution_count": 8,
     "metadata": {},
     "output_type": "execute_result"
    }
   ],
   "source": [
    "x  = [[-1 for j in range(8)] for k in range(8)]\n",
    "x"
   ]
  },
  {
   "cell_type": "code",
   "execution_count": 8,
   "metadata": {},
   "outputs": [],
   "source": [
    "def knightstour(m,n,i,j):\n",
    "    board = [[-1 for z in range(n)] for k in range(m)]\n",
    "    board[i][j] = 0 \n",
    "    mx = [2, 1, -1, -2, -2, -1, 1, 2]\n",
    "    my = [1, 2, 2, 1, -1, -2, -2, -1]\n",
    "    pos = 1\n",
    "    \n",
    "    if solution(m,n,board,i,j,mx,my,pos):\n",
    "        printboard(m,n,board)\n",
    "    else:\n",
    "        return('Solution does not exist')\n",
    "\n",
    "    \n",
    "def issafe(m,n,x,y,board):\n",
    "    if(x >= 0 and y >= 0 and x < m and y < n and board[x][y] == -1):\n",
    "        return(True)\n",
    "    return(False)\n",
    "\n",
    "def printboard(m,n,board):\n",
    "    for i in range(m):\n",
    "        for j in range(n):\n",
    "            print(board[i][j], end = ' ')\n",
    "        print()\n",
    "        \n",
    "        \n",
    "def solution(m,n,board,cx,cy,mx,my,pos):\n",
    "    \n",
    "    if(pos == m*n):\n",
    "        return(True)\n",
    "    \n",
    "    for t in range(8):\n",
    "        x = cx + mx[t]\n",
    "        y = cy + my[t]\n",
    "        if (issafe(m,n,x,y,board)):\n",
    "            board[x][y] = pos\n",
    "            if (solution(m,n,board,x,y,mx,my,pos+1)):\n",
    "                return(True)\n",
    "            \n",
    "            board[x][y] = -1\n",
    "            \n",
    "    return(False)\n",
    "    \n",
    "    \n",
    "    "
   ]
  },
  {
   "cell_type": "code",
   "execution_count": 10,
   "metadata": {
    "scrolled": false
   },
   "outputs": [
    {
     "name": "stdout",
     "output_type": "stream",
     "text": [
      "29 16 9 20 1 14 \n",
      "8 25 0 15 10 21 \n",
      "17 28 19 4 13 2 \n",
      "24 7 26 11 22 5 \n",
      "27 18 23 6 3 12 \n"
     ]
    }
   ],
   "source": [
    "knightstour(5,6,1,2)"
   ]
  }
 ],
 "metadata": {
  "kernelspec": {
   "display_name": "Python 3",
   "language": "python",
   "name": "python3"
  },
  "language_info": {
   "codemirror_mode": {
    "name": "ipython",
    "version": 3
   },
   "file_extension": ".py",
   "mimetype": "text/x-python",
   "name": "python",
   "nbconvert_exporter": "python",
   "pygments_lexer": "ipython3",
   "version": "3.8.5"
  }
 },
 "nbformat": 4,
 "nbformat_minor": 4
}
