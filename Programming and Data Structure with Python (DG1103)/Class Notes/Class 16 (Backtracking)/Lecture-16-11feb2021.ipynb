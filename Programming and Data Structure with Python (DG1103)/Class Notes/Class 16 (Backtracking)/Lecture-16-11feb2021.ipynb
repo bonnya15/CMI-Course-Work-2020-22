{
 "cells": [
  {
   "cell_type": "markdown",
   "metadata": {},
   "source": [
    "# Programming and Data Structures with Python\n",
    "# Lecture 16, 11 February 2021"
   ]
  },
  {
   "cell_type": "markdown",
   "metadata": {},
   "source": [
    "## 8 queens, passing the board"
   ]
  },
  {
   "cell_type": "code",
   "execution_count": 1,
   "metadata": {},
   "outputs": [
    {
     "name": "stdout",
     "output_type": "stream",
     "text": [
      "How many queens? 8\n",
      "(0, 0)\n",
      "(1, 4)\n",
      "(2, 7)\n",
      "(3, 5)\n",
      "(4, 2)\n",
      "(5, 6)\n",
      "(6, 1)\n",
      "(7, 3)\n"
     ]
    }
   ],
   "source": [
    "def initialize(board,n):\n",
    "  for key in ['queen','row','col','nwtose','swtone']:\n",
    "    board[key] = {}\n",
    "  for i in range(n):\n",
    "    board['queen'][i] = -1\n",
    "    board['row'][i] = 0\n",
    "    board['col'][i] = 0\n",
    "  for i in range(-(n-1),n):\n",
    "    board['nwtose'][i] = 0\n",
    "  for i in range(2*n-1):\n",
    "    board['swtone'][i] = 0\n",
    "\n",
    "def printboard(board):\n",
    "  for row in sorted(board['queen'].keys()):\n",
    "    print((row,board['queen'][row]))\n",
    "\n",
    "def free(i,j,board):\n",
    "  return(board['row'][i] == 0 and board['col'][j] == 0 and\n",
    "          board['nwtose'][j-i] == 0 and board['swtone'][j+i] == 0)\n",
    "\n",
    "def addqueen(i,j,board):\n",
    "  board['queen'][i] = j\n",
    "  board['row'][i] = 1\n",
    "  board['col'][j] = 1\n",
    "  board['nwtose'][j-i] = 1\n",
    "  board['swtone'][j+i] = 1\n",
    "\n",
    "def undoqueen(i,j,board):\n",
    "  board['queen'][i] = -1\n",
    "  board['row'][i] = 0\n",
    "  board['col'][j] = 0\n",
    "  board['nwtose'][j-i] = 0\n",
    "  board['swtone'][j+i] = 0\n",
    "\n",
    "def placequeen(i,board):\n",
    "  n = len(board['queen'].keys())\n",
    "  for j in range(n):\n",
    "    if free(i,j,board):\n",
    "      addqueen(i,j,board)\n",
    "      if i == n-1:\n",
    "        return(True)\n",
    "      else:\n",
    "        extendsoln = placequeen(i+1,board)\n",
    "      if extendsoln:\n",
    "        return(True)\n",
    "      else:\n",
    "        undoqueen(i,j,board)\n",
    "  else:\n",
    "    return(False)\n",
    "\n",
    "board = {}\n",
    "n = int(input(\"How many queens? \"))\n",
    "initialize(board,n)\n",
    "if placequeen(0,board):\n",
    "  printboard(board)"
   ]
  },
  {
   "cell_type": "markdown",
   "metadata": {},
   "source": [
    "## 8 queens, solution printed nicely"
   ]
  },
  {
   "cell_type": "code",
   "execution_count": 2,
   "metadata": {},
   "outputs": [
    {
     "name": "stdout",
     "output_type": "stream",
     "text": [
      "How many queens? 8\n",
      "-------------------------------------\n",
      "| Q |   |   |   |   |   |   |   |   |\n",
      "-------------------------------------\n",
      "|   |   |   |   | Q |   |   |   |   |\n",
      "-------------------------------------\n",
      "|   |   |   |   |   |   |   | Q |   |\n",
      "-------------------------------------\n",
      "|   |   |   |   |   | Q |   |   |   |\n",
      "-------------------------------------\n",
      "|   |   | Q |   |   |   |   |   |   |\n",
      "-------------------------------------\n",
      "|   |   |   |   |   |   | Q |   |   |\n",
      "-------------------------------------\n",
      "|   | Q |   |   |   |   |   |   |   |\n",
      "-------------------------------------\n",
      "|   |   |   | Q |   |   |   |   |   |\n",
      "-------------------------------------\n"
     ]
    }
   ],
   "source": [
    "def initialize(board,n):\n",
    "  for key in ['queen','row','col','nwtose','swtone']:\n",
    "    board[key] = {}\n",
    "  for i in range(n):\n",
    "    board['queen'][i] = -1\n",
    "    board['row'][i] = 0\n",
    "    board['col'][i] = 0\n",
    "  for i in range(-(n-1),n):\n",
    "    board['nwtose'][i] = 0\n",
    "  for i in range(2*n-1):\n",
    "    board['swtone'][i] = 0\n",
    "\n",
    "def printboard(board):\n",
    "  n = len(board['queen'].keys())\n",
    "  dashline = \"----\"*n + \"-----\"\n",
    "  print(dashline)\n",
    "\n",
    "  for row in sorted(board['queen'].keys()):\n",
    "    pos = board['queen'][row]\n",
    "\n",
    "    print(\"|\", end=\"\")\n",
    "\n",
    "    for i in range(pos):\n",
    "      print(\"   \", end=\"|\")\n",
    "    print(\" Q \", end=\"|\")\n",
    "    for i in range(pos,n):\n",
    "      print(\"   \", end=\"|\")\n",
    "\n",
    "    print()\n",
    "    print(dashline)\n",
    "\n",
    "def free(i,j,board):\n",
    "  return(board['row'][i] == 0 and board['col'][j] == 0 and\n",
    "          board['nwtose'][j-i] == 0 and board['swtone'][j+i] == 0)\n",
    "\n",
    "def addqueen(i,j,board):\n",
    "  board['queen'][i] = j\n",
    "  board['row'][i] = 1\n",
    "  board['col'][j] = 1\n",
    "  board['nwtose'][j-i] = 1\n",
    "  board['swtone'][j+i] = 1\n",
    "\n",
    "def undoqueen(i,j,board):\n",
    "  board['queen'][i] = -1\n",
    "  board['row'][i] = 0\n",
    "  board['col'][j] = 0\n",
    "  board['nwtose'][j-i] = 0\n",
    "  board['swtone'][j+i] = 0\n",
    "\n",
    "def placequeen(i,board):\n",
    "  n = len(board['queen'].keys())\n",
    "  for j in range(n):\n",
    "    if free(i,j,board):\n",
    "      addqueen(i,j,board)\n",
    "      if i == n-1:\n",
    "        return(True)\n",
    "      else:\n",
    "        extendsoln = placequeen(i+1,board)\n",
    "      if extendsoln:\n",
    "        return(True)\n",
    "      else:\n",
    "        undoqueen(i,j,board)\n",
    "  else:\n",
    "    return(False)\n",
    "\n",
    "board = {}\n",
    "n = int(input(\"How many queens? \"))\n",
    "initialize(board,n)\n",
    "if placequeen(0,board):\n",
    "  printboard(board)"
   ]
  },
  {
   "cell_type": "markdown",
   "metadata": {},
   "source": [
    "## 8 queens, all solutions"
   ]
  },
  {
   "cell_type": "code",
   "execution_count": 3,
   "metadata": {},
   "outputs": [
    {
     "name": "stdout",
     "output_type": "stream",
     "text": [
      "How many queens? 8\n",
      "(0, 0) (1, 4) (2, 7) (3, 5) (4, 2) (5, 6) (6, 1) (7, 3) \n",
      "(0, 0) (1, 5) (2, 7) (3, 2) (4, 6) (5, 3) (6, 1) (7, 4) \n",
      "(0, 0) (1, 6) (2, 3) (3, 5) (4, 7) (5, 1) (6, 4) (7, 2) \n",
      "(0, 0) (1, 6) (2, 4) (3, 7) (4, 1) (5, 3) (6, 5) (7, 2) \n",
      "(0, 1) (1, 3) (2, 5) (3, 7) (4, 2) (5, 0) (6, 6) (7, 4) \n",
      "(0, 1) (1, 4) (2, 6) (3, 0) (4, 2) (5, 7) (6, 5) (7, 3) \n",
      "(0, 1) (1, 4) (2, 6) (3, 3) (4, 0) (5, 7) (6, 5) (7, 2) \n",
      "(0, 1) (1, 5) (2, 0) (3, 6) (4, 3) (5, 7) (6, 2) (7, 4) \n",
      "(0, 1) (1, 5) (2, 7) (3, 2) (4, 0) (5, 3) (6, 6) (7, 4) \n",
      "(0, 1) (1, 6) (2, 2) (3, 5) (4, 7) (5, 4) (6, 0) (7, 3) \n",
      "(0, 1) (1, 6) (2, 4) (3, 7) (4, 0) (5, 3) (6, 5) (7, 2) \n",
      "(0, 1) (1, 7) (2, 5) (3, 0) (4, 2) (5, 4) (6, 6) (7, 3) \n",
      "(0, 2) (1, 0) (2, 6) (3, 4) (4, 7) (5, 1) (6, 3) (7, 5) \n",
      "(0, 2) (1, 4) (2, 1) (3, 7) (4, 0) (5, 6) (6, 3) (7, 5) \n",
      "(0, 2) (1, 4) (2, 1) (3, 7) (4, 5) (5, 3) (6, 6) (7, 0) \n",
      "(0, 2) (1, 4) (2, 6) (3, 0) (4, 3) (5, 1) (6, 7) (7, 5) \n",
      "(0, 2) (1, 4) (2, 7) (3, 3) (4, 0) (5, 6) (6, 1) (7, 5) \n",
      "(0, 2) (1, 5) (2, 1) (3, 4) (4, 7) (5, 0) (6, 6) (7, 3) \n",
      "(0, 2) (1, 5) (2, 1) (3, 6) (4, 0) (5, 3) (6, 7) (7, 4) \n",
      "(0, 2) (1, 5) (2, 1) (3, 6) (4, 4) (5, 0) (6, 7) (7, 3) \n",
      "(0, 2) (1, 5) (2, 3) (3, 0) (4, 7) (5, 4) (6, 6) (7, 1) \n",
      "(0, 2) (1, 5) (2, 3) (3, 1) (4, 7) (5, 4) (6, 6) (7, 0) \n",
      "(0, 2) (1, 5) (2, 7) (3, 0) (4, 3) (5, 6) (6, 4) (7, 1) \n",
      "(0, 2) (1, 5) (2, 7) (3, 0) (4, 4) (5, 6) (6, 1) (7, 3) \n",
      "(0, 2) (1, 5) (2, 7) (3, 1) (4, 3) (5, 0) (6, 6) (7, 4) \n",
      "(0, 2) (1, 6) (2, 1) (3, 7) (4, 4) (5, 0) (6, 3) (7, 5) \n",
      "(0, 2) (1, 6) (2, 1) (3, 7) (4, 5) (5, 3) (6, 0) (7, 4) \n",
      "(0, 2) (1, 7) (2, 3) (3, 6) (4, 0) (5, 5) (6, 1) (7, 4) \n",
      "(0, 3) (1, 0) (2, 4) (3, 7) (4, 1) (5, 6) (6, 2) (7, 5) \n",
      "(0, 3) (1, 0) (2, 4) (3, 7) (4, 5) (5, 2) (6, 6) (7, 1) \n",
      "(0, 3) (1, 1) (2, 4) (3, 7) (4, 5) (5, 0) (6, 2) (7, 6) \n",
      "(0, 3) (1, 1) (2, 6) (3, 2) (4, 5) (5, 7) (6, 0) (7, 4) \n",
      "(0, 3) (1, 1) (2, 6) (3, 2) (4, 5) (5, 7) (6, 4) (7, 0) \n",
      "(0, 3) (1, 1) (2, 6) (3, 4) (4, 0) (5, 7) (6, 5) (7, 2) \n",
      "(0, 3) (1, 1) (2, 7) (3, 4) (4, 6) (5, 0) (6, 2) (7, 5) \n",
      "(0, 3) (1, 1) (2, 7) (3, 5) (4, 0) (5, 2) (6, 4) (7, 6) \n",
      "(0, 3) (1, 5) (2, 0) (3, 4) (4, 1) (5, 7) (6, 2) (7, 6) \n",
      "(0, 3) (1, 5) (2, 7) (3, 1) (4, 6) (5, 0) (6, 2) (7, 4) \n",
      "(0, 3) (1, 5) (2, 7) (3, 2) (4, 0) (5, 6) (6, 4) (7, 1) \n",
      "(0, 3) (1, 6) (2, 0) (3, 7) (4, 4) (5, 1) (6, 5) (7, 2) \n",
      "(0, 3) (1, 6) (2, 2) (3, 7) (4, 1) (5, 4) (6, 0) (7, 5) \n",
      "(0, 3) (1, 6) (2, 4) (3, 1) (4, 5) (5, 0) (6, 2) (7, 7) \n",
      "(0, 3) (1, 6) (2, 4) (3, 2) (4, 0) (5, 5) (6, 7) (7, 1) \n",
      "(0, 3) (1, 7) (2, 0) (3, 2) (4, 5) (5, 1) (6, 6) (7, 4) \n",
      "(0, 3) (1, 7) (2, 0) (3, 4) (4, 6) (5, 1) (6, 5) (7, 2) \n",
      "(0, 3) (1, 7) (2, 4) (3, 2) (4, 0) (5, 6) (6, 1) (7, 5) \n",
      "(0, 4) (1, 0) (2, 3) (3, 5) (4, 7) (5, 1) (6, 6) (7, 2) \n",
      "(0, 4) (1, 0) (2, 7) (3, 3) (4, 1) (5, 6) (6, 2) (7, 5) \n",
      "(0, 4) (1, 0) (2, 7) (3, 5) (4, 2) (5, 6) (6, 1) (7, 3) \n",
      "(0, 4) (1, 1) (2, 3) (3, 5) (4, 7) (5, 2) (6, 0) (7, 6) \n",
      "(0, 4) (1, 1) (2, 3) (3, 6) (4, 2) (5, 7) (6, 5) (7, 0) \n",
      "(0, 4) (1, 1) (2, 5) (3, 0) (4, 6) (5, 3) (6, 7) (7, 2) \n",
      "(0, 4) (1, 1) (2, 7) (3, 0) (4, 3) (5, 6) (6, 2) (7, 5) \n",
      "(0, 4) (1, 2) (2, 0) (3, 5) (4, 7) (5, 1) (6, 3) (7, 6) \n",
      "(0, 4) (1, 2) (2, 0) (3, 6) (4, 1) (5, 7) (6, 5) (7, 3) \n",
      "(0, 4) (1, 2) (2, 7) (3, 3) (4, 6) (5, 0) (6, 5) (7, 1) \n",
      "(0, 4) (1, 6) (2, 0) (3, 2) (4, 7) (5, 5) (6, 3) (7, 1) \n",
      "(0, 4) (1, 6) (2, 0) (3, 3) (4, 1) (5, 7) (6, 5) (7, 2) \n",
      "(0, 4) (1, 6) (2, 1) (3, 3) (4, 7) (5, 0) (6, 2) (7, 5) \n",
      "(0, 4) (1, 6) (2, 1) (3, 5) (4, 2) (5, 0) (6, 3) (7, 7) \n",
      "(0, 4) (1, 6) (2, 1) (3, 5) (4, 2) (5, 0) (6, 7) (7, 3) \n",
      "(0, 4) (1, 6) (2, 3) (3, 0) (4, 2) (5, 7) (6, 5) (7, 1) \n",
      "(0, 4) (1, 7) (2, 3) (3, 0) (4, 2) (5, 5) (6, 1) (7, 6) \n",
      "(0, 4) (1, 7) (2, 3) (3, 0) (4, 6) (5, 1) (6, 5) (7, 2) \n",
      "(0, 5) (1, 0) (2, 4) (3, 1) (4, 7) (5, 2) (6, 6) (7, 3) \n",
      "(0, 5) (1, 1) (2, 6) (3, 0) (4, 2) (5, 4) (6, 7) (7, 3) \n",
      "(0, 5) (1, 1) (2, 6) (3, 0) (4, 3) (5, 7) (6, 4) (7, 2) \n",
      "(0, 5) (1, 2) (2, 0) (3, 6) (4, 4) (5, 7) (6, 1) (7, 3) \n",
      "(0, 5) (1, 2) (2, 0) (3, 7) (4, 3) (5, 1) (6, 6) (7, 4) \n",
      "(0, 5) (1, 2) (2, 0) (3, 7) (4, 4) (5, 1) (6, 3) (7, 6) \n",
      "(0, 5) (1, 2) (2, 4) (3, 6) (4, 0) (5, 3) (6, 1) (7, 7) \n",
      "(0, 5) (1, 2) (2, 4) (3, 7) (4, 0) (5, 3) (6, 1) (7, 6) \n",
      "(0, 5) (1, 2) (2, 6) (3, 1) (4, 3) (5, 7) (6, 0) (7, 4) \n",
      "(0, 5) (1, 2) (2, 6) (3, 1) (4, 7) (5, 4) (6, 0) (7, 3) \n",
      "(0, 5) (1, 2) (2, 6) (3, 3) (4, 0) (5, 7) (6, 1) (7, 4) \n",
      "(0, 5) (1, 3) (2, 0) (3, 4) (4, 7) (5, 1) (6, 6) (7, 2) \n",
      "(0, 5) (1, 3) (2, 1) (3, 7) (4, 4) (5, 6) (6, 0) (7, 2) \n",
      "(0, 5) (1, 3) (2, 6) (3, 0) (4, 2) (5, 4) (6, 1) (7, 7) \n",
      "(0, 5) (1, 3) (2, 6) (3, 0) (4, 7) (5, 1) (6, 4) (7, 2) \n",
      "(0, 5) (1, 7) (2, 1) (3, 3) (4, 0) (5, 6) (6, 4) (7, 2) \n",
      "(0, 6) (1, 0) (2, 2) (3, 7) (4, 5) (5, 3) (6, 1) (7, 4) \n",
      "(0, 6) (1, 1) (2, 3) (3, 0) (4, 7) (5, 4) (6, 2) (7, 5) \n",
      "(0, 6) (1, 1) (2, 5) (3, 2) (4, 0) (5, 3) (6, 7) (7, 4) \n",
      "(0, 6) (1, 2) (2, 0) (3, 5) (4, 7) (5, 4) (6, 1) (7, 3) \n",
      "(0, 6) (1, 2) (2, 7) (3, 1) (4, 4) (5, 0) (6, 5) (7, 3) \n",
      "(0, 6) (1, 3) (2, 1) (3, 4) (4, 7) (5, 0) (6, 2) (7, 5) \n",
      "(0, 6) (1, 3) (2, 1) (3, 7) (4, 5) (5, 0) (6, 2) (7, 4) \n",
      "(0, 6) (1, 4) (2, 2) (3, 0) (4, 5) (5, 7) (6, 1) (7, 3) \n",
      "(0, 7) (1, 1) (2, 3) (3, 0) (4, 6) (5, 4) (6, 2) (7, 5) \n",
      "(0, 7) (1, 1) (2, 4) (3, 2) (4, 0) (5, 6) (6, 3) (7, 5) \n",
      "(0, 7) (1, 2) (2, 0) (3, 5) (4, 1) (5, 4) (6, 6) (7, 3) \n",
      "(0, 7) (1, 3) (2, 0) (3, 2) (4, 5) (5, 1) (6, 6) (7, 4) \n"
     ]
    }
   ],
   "source": [
    "def initialize(board,n):\n",
    "  for key in ['queen','row','col','nwtose','swtone']:\n",
    "    board[key] = {}\n",
    "  for i in range(n):\n",
    "    board['queen'][i] = -1\n",
    "    board['row'][i] = 0\n",
    "    board['col'][i] = 0\n",
    "  for i in range(-(n-1),n):\n",
    "    board['nwtose'][i] = 0\n",
    "  for i in range(2*n-1):\n",
    "    board['swtone'][i] = 0\n",
    "\n",
    "def printboard(board):\n",
    "  for row in sorted(board['queen'].keys()):\n",
    "    print((row,board['queen'][row]),end=\" \")\n",
    "  print(\"\")\n",
    "  \n",
    "def free(i,j,board):\n",
    "  return(board['row'][i] == 0 and board['col'][j] == 0 and\n",
    "          board['nwtose'][j-i] == 0 and board['swtone'][j+i] == 0)\n",
    "\n",
    "def addqueen(i,j,board):\n",
    "  board['queen'][i] = j\n",
    "  board['row'][i] = 1\n",
    "  board['col'][j] = 1\n",
    "  board['nwtose'][j-i] = 1\n",
    "  board['swtone'][j+i] = 1\n",
    "\n",
    "def undoqueen(i,j,board):\n",
    "  board['queen'][i] = -1\n",
    "  board['row'][i] = 0\n",
    "  board['col'][j] = 0\n",
    "  board['nwtose'][j-i] = 0\n",
    "  board['swtone'][j+i] = 0\n",
    "\n",
    "def placequeen(i,board):\n",
    "  n = len(board['queen'].keys())\n",
    "  for j in range(n):\n",
    "    if free(i,j,board):\n",
    "      addqueen(i,j,board)\n",
    "      if i == n-1:\n",
    "        printboard(board)\n",
    "      else:\n",
    "        extendsoln = placequeen(i+1,board)\n",
    "      undoqueen(i,j,board)\n",
    "\n",
    "board = {}\n",
    "n = int(input(\"How many queens? \"))\n",
    "initialize(board,n)\n",
    "if placequeen(0,board):\n",
    "  printboard(board)\n"
   ]
  },
  {
   "cell_type": "markdown",
   "metadata": {},
   "source": [
    "## 8 queens, using a global board"
   ]
  },
  {
   "cell_type": "code",
   "execution_count": 4,
   "metadata": {},
   "outputs": [
    {
     "name": "stdout",
     "output_type": "stream",
     "text": [
      "How many queens? 8\n",
      "(0, 0)\n",
      "(1, 4)\n",
      "(2, 7)\n",
      "(3, 5)\n",
      "(4, 2)\n",
      "(5, 6)\n",
      "(6, 1)\n",
      "(7, 3)\n"
     ]
    }
   ],
   "source": [
    "def initialize(n):\n",
    "  for key in ['queen','row','col','nwtose','swtone']:\n",
    "    board[key] = {}\n",
    "  for i in range(n):\n",
    "    board['queen'][i] = -1\n",
    "    board['row'][i] = 0\n",
    "    board['col'][i] = 0\n",
    "  for i in range(-(n-1),n):\n",
    "    board['nwtose'][i] = 0\n",
    "  for i in range(2*n-1):\n",
    "    board['swtone'][i] = 0\n",
    "\n",
    "def printboard():\n",
    "  for row in sorted(board['queen'].keys()):\n",
    "    print((row,board['queen'][row]))\n",
    "\n",
    "def free(i,j):\n",
    "  return(board['row'][i] == 0 and board['col'][j] == 0 and\n",
    "          board['nwtose'][j-i] == 0 and board['swtone'][j+i] == 0)\n",
    "\n",
    "def addqueen(i,j):\n",
    "  board['queen'][i] = j\n",
    "  board['row'][i] = 1\n",
    "  board['col'][j] = 1\n",
    "  board['nwtose'][j-i] = 1\n",
    "  board['swtone'][j+i] = 1\n",
    "\n",
    "def undoqueen(i,j):\n",
    "  board['queen'][i] = -1\n",
    "  board['row'][i] = 0\n",
    "  board['col'][j] = 0\n",
    "  board['nwtose'][j-i] = 0\n",
    "  board['swtone'][j+i] = 0\n",
    "\n",
    "def placequeen(i):\n",
    "  n = len(board['queen'].keys())\n",
    "  for j in range(n):\n",
    "    if free(i,j):\n",
    "      addqueen(i,j)\n",
    "      if i == n-1:\n",
    "        return(True)\n",
    "      else:\n",
    "        extendsoln = placequeen(i+1)\n",
    "      if extendsoln:\n",
    "        return(True)\n",
    "      else:\n",
    "        undoqueen(i,j)\n",
    "  else:\n",
    "    return(False)\n",
    "\n",
    "board = {}\n",
    "n = int(input(\"How many queens? \"))\n",
    "initialize(n)\n",
    "if placequeen(0):\n",
    "  printboard()"
   ]
  },
  {
   "cell_type": "markdown",
   "metadata": {},
   "source": [
    "## Global vs local variables in Python"
   ]
  },
  {
   "cell_type": "code",
   "execution_count": 5,
   "metadata": {},
   "outputs": [
    {
     "name": "stdout",
     "output_type": "stream",
     "text": [
      "7\n"
     ]
    }
   ],
   "source": [
    "def f():\n",
    "  y = x\n",
    "  print(y)\n",
    "\n",
    "x = 7\n",
    "f()\n"
   ]
  },
  {
   "cell_type": "code",
   "execution_count": 6,
   "metadata": {},
   "outputs": [
    {
     "ename": "UnboundLocalError",
     "evalue": "local variable 'x' referenced before assignment",
     "output_type": "error",
     "traceback": [
      "\u001b[0;31m---------------------------------------------------------------------------\u001b[0m",
      "\u001b[0;31mUnboundLocalError\u001b[0m                         Traceback (most recent call last)",
      "\u001b[0;32m<ipython-input-6-8ee095dea1c8>\u001b[0m in \u001b[0;36m<module>\u001b[0;34m\u001b[0m\n\u001b[1;32m      5\u001b[0m \u001b[0;34m\u001b[0m\u001b[0m\n\u001b[1;32m      6\u001b[0m \u001b[0mx\u001b[0m \u001b[0;34m=\u001b[0m \u001b[0;36m7\u001b[0m\u001b[0;34m\u001b[0m\u001b[0;34m\u001b[0m\u001b[0m\n\u001b[0;32m----> 7\u001b[0;31m \u001b[0mf\u001b[0m\u001b[0;34m(\u001b[0m\u001b[0;34m)\u001b[0m\u001b[0;34m\u001b[0m\u001b[0;34m\u001b[0m\u001b[0m\n\u001b[0m",
      "\u001b[0;32m<ipython-input-6-8ee095dea1c8>\u001b[0m in \u001b[0;36mf\u001b[0;34m()\u001b[0m\n\u001b[1;32m      1\u001b[0m \u001b[0;32mdef\u001b[0m \u001b[0mf\u001b[0m\u001b[0;34m(\u001b[0m\u001b[0;34m)\u001b[0m\u001b[0;34m:\u001b[0m\u001b[0;34m\u001b[0m\u001b[0;34m\u001b[0m\u001b[0m\n\u001b[0;32m----> 2\u001b[0;31m   \u001b[0my\u001b[0m \u001b[0;34m=\u001b[0m \u001b[0mx\u001b[0m\u001b[0;34m\u001b[0m\u001b[0;34m\u001b[0m\u001b[0m\n\u001b[0m\u001b[1;32m      3\u001b[0m   \u001b[0mprint\u001b[0m\u001b[0;34m(\u001b[0m\u001b[0my\u001b[0m\u001b[0;34m)\u001b[0m\u001b[0;34m\u001b[0m\u001b[0;34m\u001b[0m\u001b[0m\n\u001b[1;32m      4\u001b[0m   \u001b[0mx\u001b[0m \u001b[0;34m=\u001b[0m \u001b[0;36m22\u001b[0m\u001b[0;34m\u001b[0m\u001b[0;34m\u001b[0m\u001b[0m\n\u001b[1;32m      5\u001b[0m \u001b[0;34m\u001b[0m\u001b[0m\n",
      "\u001b[0;31mUnboundLocalError\u001b[0m: local variable 'x' referenced before assignment"
     ]
    }
   ],
   "source": [
    "def f():\n",
    "  y = x\n",
    "  print(y)\n",
    "  x = 22\n",
    "\n",
    "x = 7\n",
    "f()"
   ]
  },
  {
   "cell_type": "code",
   "execution_count": 7,
   "metadata": {},
   "outputs": [
    {
     "name": "stdout",
     "output_type": "stream",
     "text": [
      "7\n"
     ]
    }
   ],
   "source": [
    "def f():\n",
    "  y = x[0]\n",
    "  print(y)\n",
    "  x[0] = 22\n",
    "\n",
    "x = [7]\n",
    "f()"
   ]
  },
  {
   "cell_type": "code",
   "execution_count": 8,
   "metadata": {},
   "outputs": [
    {
     "name": "stdout",
     "output_type": "stream",
     "text": [
      "7\n",
      "22\n"
     ]
    }
   ],
   "source": [
    "def f():\n",
    "  global x\n",
    "  y = x\n",
    "  print(y)\n",
    "  x = 22\n",
    "\n",
    "x = 7\n",
    "f()\n",
    "print(x)"
   ]
  }
 ],
 "metadata": {
  "kernelspec": {
   "display_name": "Python 3",
   "language": "python",
   "name": "python3"
  },
  "language_info": {
   "codemirror_mode": {
    "name": "ipython",
    "version": 3
   },
   "file_extension": ".py",
   "mimetype": "text/x-python",
   "name": "python",
   "nbconvert_exporter": "python",
   "pygments_lexer": "ipython3",
   "version": "3.8.5"
  }
 },
 "nbformat": 4,
 "nbformat_minor": 4
}
