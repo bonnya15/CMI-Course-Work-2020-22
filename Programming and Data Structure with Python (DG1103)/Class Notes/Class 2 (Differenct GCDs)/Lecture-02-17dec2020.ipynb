{
 "cells": [
  {
   "cell_type": "markdown",
   "metadata": {},
   "source": [
    "# Programming and Data Structures with Python\n",
    "# Lecture 2, 17 December 2020"
   ]
  },
  {
   "cell_type": "markdown",
   "metadata": {},
   "source": [
    "## Computing gcd: recap\n",
    "\n",
    "Naive, brute-force algorthm\n",
    "\n",
    "- Generate lists **fm** and **fn** of factors of $m$ and $n$ by\n",
    "  scanning $i$ from $1$ to $m$ and $1$ to $n$, respectively.\n",
    "  Compute list of common factors **cf** from **fm** and **fn**.\n",
    "  Report largest (right-most) value in **cf**\n",
    "\n",
    "Refinements\n",
    "\n",
    "- Sufficient to scan candidate factors from $1$ to $\\min(m,n)$\n",
    "- Overlap the computation of **fm** and **fn** in a single scan\n",
    "- In a single scan of $1$ to $\\min(m,n)$, directly compute  **cf**"
   ]
  },
  {
   "cell_type": "markdown",
   "metadata": {},
   "source": [
    "## Lists, revisited\n",
    "\n",
    "- Do we need to maintain lists of factors?\n",
    "\n",
    "- Once we replace $i$ in **cf** by a larger value $j$, we don't\n",
    "  need $i$ any more\n",
    "\n",
    "  - Sufficient to record *most recent common factor*, **mrcf**\n"
   ]
  },
  {
   "cell_type": "code",
   "execution_count": 1,
   "metadata": {},
   "outputs": [],
   "source": [
    "def gcd4(m,n):\n",
    "    for i in range(1,min(m,n)+1):\n",
    "        if (m%i) == 0 and (n%i) == 0:\n",
    "            mrcf = i\n",
    "    return(mrcf)"
   ]
  },
  {
   "cell_type": "code",
   "execution_count": 2,
   "metadata": {},
   "outputs": [
    {
     "data": {
      "text/plain": [
       "13"
      ]
     },
     "execution_count": 2,
     "metadata": {},
     "output_type": "execute_result"
    }
   ],
   "source": [
    "gcd4(1001,52)"
   ]
  },
  {
   "cell_type": "markdown",
   "metadata": {},
   "source": [
    "## Reversing the scan\n",
    "\n",
    "We are interested in largest common factor.  Instead of scanning\n",
    "from $1$ to $\\min(m,n)$, scan in reverse from $\\min(m,n)$ down to\n",
    "$1$.  Stop as soon as we find any common factor.\n",
    "\n",
    "This introduces a new type of loop.  Previously **for** ran\n",
    "through a fixed set of values in a list/sequence.  Here, instead,\n",
    "we have a **while** loop, governed by a condition.  So long as\n",
    "the condition associated with the **while** is true, the loop\n",
    "repeats.  Once the condition fails, the loop ends.\n"
   ]
  },
  {
   "cell_type": "code",
   "execution_count": 3,
   "metadata": {},
   "outputs": [],
   "source": [
    "def gcd5(m,n):\n",
    "    i = min(m,n)\n",
    "    while i > 0:\n",
    "        if (m%i) == 0 and (n%i) == 0:\n",
    "            return(i)\n",
    "        else:\n",
    "            i = i-1"
   ]
  },
  {
   "cell_type": "markdown",
   "metadata": {},
   "source": [
    "## Using basic properties of numbers\n",
    "\n",
    "- Suppose $d$ is a common factor of $m$ and $n$\n",
    "- Then we can write $m = ad$ and $n = bd$\n",
    "- Assuming $m > n$, $m - n = (a-b)d$, so $d$ divides $m - n$\n",
    "\n",
    "New strategy\n",
    "\n",
    "- Assume $m > n$. If $n$ divides $m$, then $\\gcd(m,n) = n$\n",
    "- Otherwise, solve a smaller instance of the problem\n",
    "  $\\gcd(n,m-n)$\n",
    "- Note that it could be that $m-n > n$\n"
   ]
  },
  {
   "cell_type": "code",
   "execution_count": 4,
   "metadata": {},
   "outputs": [],
   "source": [
    "def gcd6(m,n):\n",
    "    # Assume m >= n\n",
    "    if m < n:\n",
    "        (m,n) = (n,m)\n",
    "    if (m%n) == 0:\n",
    "        return(n)\n",
    "    else:\n",
    "        diff = m-n\n",
    "        return(gcd6(n,diff))"
   ]
  },
  {
   "cell_type": "markdown",
   "metadata": {},
   "source": [
    "## Recursion\n",
    "This is a *recursive* computation.  We compute  $\\gcd(m,n)$ in\n",
    "terms of smaller arguments $\\gcd(x,y)$.  When we reach the base\n",
    "case ($n$ divides $m$) we get the answer as $n$.\n",
    "\n",
    "Here is an example:\n",
    "\n",
    "$\\gcd(77,33) \\leadsto \\gcd(44,33) \\leadsto \\gcd(33,11) \\leadsto 11$\n"
   ]
  },
  {
   "cell_type": "markdown",
   "metadata": {},
   "source": [
    "## Converting recursion to iteration\n",
    "We can also write an *iterative* version of the same algorithm,\n",
    "using a loop to repeatedly replace $(m,n)$ by\n",
    "$(\\max(n,\\text{diff}),\\min(n,\\text{diff}))$.  Note that we force the pair to be\n",
    "such that the first element is bigger than the second.\n",
    "\n"
   ]
  },
  {
   "cell_type": "code",
   "execution_count": 5,
   "metadata": {},
   "outputs": [],
   "source": [
    "def gcd7(m,n):\n",
    "    if m < n: # Assume m >= n\n",
    "        (m,n) = (n,m)\n",
    "    while (m%n) != 0:\n",
    "        diff = m-n\n",
    "        # diff > n? Possible!\n",
    "        (m,n) = (max(n,diff),min(n,diff))\n",
    "    return(n)"
   ]
  },
  {
   "cell_type": "markdown",
   "metadata": {},
   "source": [
    "## Efficiency\n",
    "\n",
    "How long does this take?  Consider $\\gcd(x,2)$ where $x$ is a\n",
    "large odd number.  We will compute $\\gcd(x,2) \\leadsto\n",
    "\\gcd(x-2,2) \\leadsto \\cdots \\leadsto \\gcd(5,2) \\leadsto \\gcd(3,2) \\leadsto\n",
    "\\gcd(2,1) \\leadsto 1$.\n",
    "\n",
    "This takes $x/2$ steps, so the length of the computation is\n",
    "roughly the *magnitude* of the argument.\n",
    "\n",
    "For arithmetic calculation, we would like operations to grow with\n",
    "the number of digits rather than the magnitude.  For instance,\n",
    "a 5-digit number is 100 times as large as a 3-digit\n",
    "number, but adding two 5-digit numbers does not take 100 times\n",
    "more effort than adding two 3-digit numbers.  In fact, there are\n",
    "2 extra columns to add because the number of digits has grown by\n",
    "2.\n",
    "\n",
    "The number of digits in $n$ is proportionate to $\\log_{10}(n)$.\n",
    "(For any base $b$, the number of digits in a base $b$\n",
    "representation of $n$ is proportionate $\\log_{b}(n)$.)\n",
    "\n",
    "This prompts us to our final refinement of the gcd algorithm,\n",
    "that goes back to Euclid.\n"
   ]
  },
  {
   "cell_type": "markdown",
   "metadata": {},
   "source": [
    "## Euclid's algorithm\n",
    "\n",
    "We saw that any common divisor $d$ of $m$ and $m$ must also\n",
    "divide $m-n$.  Hence, if $n$ does not divide $m$, we replace\n",
    "$\\gcd(m,n)$ by $\\gcd(m-n,n)$.\n",
    "\n",
    "Suppose $n$ does not divide $m$.  Then, $m = qn + r$, where $q$\n",
    "is the *quotient* and $r < n$ is the *remainder.\n",
    "\n",
    "Now, supposed $d$ divides both $m$ and $n$.  As before, we can\n",
    "write $m = ad$ and $n = bd$.  \n",
    "\n",
    "From $m = qn + r$ we get $ad = q(bd) + r$, so $r = (a-qb)d$.  In\n",
    "other words, $d$ must divide $r$ as well.\n",
    "\n",
    "Hence, instead of reducing $\\gcd(m,n)$ to $\\gcd(m-n,n), we can\n",
    "reduce it to $\\gcd(n,r).  Notice that $r < n$ because it is\n",
    "the remainder when we divide $m$ by $n$.\n"
   ]
  },
  {
   "cell_type": "code",
   "execution_count": 6,
   "metadata": {},
   "outputs": [],
   "source": [
    "def gcd8(m,n):\n",
    "    if m < n: # Assume m >= n\n",
    "        (m,n) = (n,m)\n",
    "    if (m%n) == 0:\n",
    "        return(n)\n",
    "    else:\n",
    "        r = m%n\n",
    "        return(gcd8(n,r))  # m%n < n, always!"
   ]
  },
  {
   "cell_type": "markdown",
   "metadata": {},
   "source": [
    "# Python syntax"
   ]
  },
  {
   "cell_type": "markdown",
   "metadata": {},
   "source": [
    "## Names and values"
   ]
  },
  {
   "cell_type": "code",
   "execution_count": 7,
   "metadata": {},
   "outputs": [],
   "source": [
    "# This is a comment --- an explanation that is not executed\n",
    "\n",
    "# Assigning a value to a name\n",
    "x = 7"
   ]
  },
  {
   "cell_type": "markdown",
   "metadata": {},
   "source": [
    "Can query Python interactively, use as a calculator."
   ]
  },
  {
   "cell_type": "code",
   "execution_count": 8,
   "metadata": {},
   "outputs": [
    {
     "data": {
      "text/plain": [
       "7"
      ]
     },
     "execution_count": 8,
     "metadata": {},
     "output_type": "execute_result"
    }
   ],
   "source": [
    "x"
   ]
  },
  {
   "cell_type": "code",
   "execution_count": 9,
   "metadata": {},
   "outputs": [
    {
     "data": {
      "text/plain": [
       "15"
      ]
     },
     "execution_count": 9,
     "metadata": {},
     "output_type": "execute_result"
    }
   ],
   "source": [
    "x + 8"
   ]
  },
  {
   "cell_type": "code",
   "execution_count": 10,
   "metadata": {},
   "outputs": [],
   "source": [
    "y = x + 8"
   ]
  },
  {
   "cell_type": "code",
   "execution_count": 11,
   "metadata": {},
   "outputs": [
    {
     "data": {
      "text/plain": [
       "15"
      ]
     },
     "execution_count": 11,
     "metadata": {},
     "output_type": "execute_result"
    }
   ],
   "source": [
    "y"
   ]
  },
  {
   "cell_type": "markdown",
   "metadata": {},
   "source": [
    "Ensure that a name has an associated value before it is\n",
    "used. Using **z** on the right hand side below generates an\n",
    "error."
   ]
  },
  {
   "cell_type": "code",
   "execution_count": 12,
   "metadata": {},
   "outputs": [
    {
     "ename": "NameError",
     "evalue": "name 'z' is not defined",
     "output_type": "error",
     "traceback": [
      "\u001b[0;31m---------------------------------------------------------------------------\u001b[0m",
      "\u001b[0;31mNameError\u001b[0m                                 Traceback (most recent call last)",
      "\u001b[0;32m<ipython-input-12-77221b398280>\u001b[0m in \u001b[0;36m<module>\u001b[0;34m\u001b[0m\n\u001b[0;32m----> 1\u001b[0;31m \u001b[0my\u001b[0m \u001b[0;34m=\u001b[0m \u001b[0mz\u001b[0m \u001b[0;34m+\u001b[0m \u001b[0;36m9\u001b[0m\u001b[0;34m\u001b[0m\u001b[0;34m\u001b[0m\u001b[0m\n\u001b[0m",
      "\u001b[0;31mNameError\u001b[0m: name 'z' is not defined"
     ]
    }
   ],
   "source": [
    "y = z + 9"
   ]
  },
  {
   "cell_type": "markdown",
   "metadata": {},
   "source": [
    "Values have \"types\" -- numbers, lists, .... : \"data type\"\n",
    "\n",
    "- Type defines what operations are allowed on the value\n",
    "- Numbers allow arithmetic: +, -, *, /\n",
    "- List: append values, find the value at position i etc\n",
    "\n",
    "Python types\n",
    "\n",
    "- Numbers: natural, integer, real, complex, ....\n",
    "- In Python, essentially two varieties of numbers: integers, reals\n",
    "    - Historically, these are represented differently inside the computer\n",
    "- Reals have a decimal point, integers do not\n",
    "- Usually, arithmetic preserves types"
   ]
  },
  {
   "cell_type": "code",
   "execution_count": 13,
   "metadata": {},
   "outputs": [],
   "source": [
    "x = 7.0"
   ]
  },
  {
   "cell_type": "code",
   "execution_count": 14,
   "metadata": {},
   "outputs": [
    {
     "data": {
      "text/plain": [
       "float"
      ]
     },
     "execution_count": 14,
     "metadata": {},
     "output_type": "execute_result"
    }
   ],
   "source": [
    "type(x)"
   ]
  },
  {
   "cell_type": "markdown",
   "metadata": {},
   "source": [
    "Why float???\n",
    "- \"Floating\" decimal point -- $6.02 \\times 10^{-23}$\n",
    "- Integers have a \"fixed\" decimal point at the right hand end of the number"
   ]
  },
  {
   "cell_type": "code",
   "execution_count": 15,
   "metadata": {},
   "outputs": [],
   "source": [
    "# Operations preserve value\n",
    "x = 7\n",
    "a = x + 3\n",
    "b = x - 4\n",
    "c = x * 8\n",
    "d = x / 7\n",
    "e = x // 6  # Quotient\n",
    "r = x % 6 # Remainder"
   ]
  },
  {
   "cell_type": "code",
   "execution_count": 16,
   "metadata": {},
   "outputs": [
    {
     "data": {
      "text/plain": [
       "(10, int, 3, int, 56, int, 1.0, float, 1, int, 1, int)"
      ]
     },
     "execution_count": 16,
     "metadata": {},
     "output_type": "execute_result"
    }
   ],
   "source": [
    "(a,type(a), b, type(b),c, type(c), d,type(d), e, type(e), r, type(r))"
   ]
  },
  {
   "cell_type": "markdown",
   "metadata": {},
   "source": [
    "Size limitation of integers -- none!"
   ]
  },
  {
   "cell_type": "code",
   "execution_count": 17,
   "metadata": {},
   "outputs": [
    {
     "data": {
      "text/plain": [
       "70839164879162953347855265581912547213917535336982347818950617283950617284"
      ]
     },
     "execution_count": 17,
     "metadata": {},
     "output_type": "execute_result"
    }
   ],
   "source": [
    "8989878869629444444444444444444 * 7879879796654355431111111111111111111111111"
   ]
  },
  {
   "cell_type": "code",
   "execution_count": 18,
   "metadata": {},
   "outputs": [
    {
     "data": {
      "text/plain": [
       "(0.8426966292134831, float, 1.0, float, 1.4000000000000004, float)"
      ]
     },
     "execution_count": 18,
     "metadata": {},
     "output_type": "execute_result"
    }
   ],
   "source": [
    "y = 7.5\n",
    "z = 8.9\n",
    "w = y/z\n",
    "q = z//y\n",
    "r = z%y\n",
    "(w, type(w), q, type(q), r, type(r))"
   ]
  },
  {
   "cell_type": "markdown",
   "metadata": {},
   "source": [
    "Binary and decimal representations of fractions have different behaviour\n",
    "- 1/10 is an infinite recurring fraction in binary\n",
    "- 1/3 and 2/3 are not finite decimal fractions, 0.333333... , 0.66666...  = 0.9999999..."
   ]
  }
 ],
 "metadata": {
  "kernelspec": {
   "display_name": "Python 3",
   "language": "python",
   "name": "python3"
  },
  "language_info": {
   "codemirror_mode": {
    "name": "ipython",
    "version": 3
   },
   "file_extension": ".py",
   "mimetype": "text/x-python",
   "name": "python",
   "nbconvert_exporter": "python",
   "pygments_lexer": "ipython3",
   "version": "3.8.5"
  }
 },
 "nbformat": 4,
 "nbformat_minor": 4
}
