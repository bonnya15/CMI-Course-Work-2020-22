{
 "cells": [
  {
   "cell_type": "code",
   "execution_count": 6,
   "metadata": {},
   "outputs": [],
   "source": [
    "def gcd(x,y):\n",
    "    for i in range (1,min(x,y)+1):\n",
    "        if x%i == 0 and y%i == 0:\n",
    "            mcrf = i\n",
    "    return(mcrf)\n",
    "        \n",
    "    "
   ]
  },
  {
   "cell_type": "code",
   "execution_count": null,
   "metadata": {},
   "outputs": [],
   "source": [
    "gcd(10,5)\n"
   ]
  },
  {
   "cell_type": "markdown",
   "metadata": {},
   "source": [
    "suppose d divides m & n m = ad, n = bd, assume m>n m-n = ad-bd = (a-b)d\n",
    "d also divides m-n\n",
    "simple case, m>n, n divides m , the gcd is n,  "
   ]
  },
  {
   "cell_type": "code",
   "execution_count": null,
   "metadata": {},
   "outputs": [],
   "source": [
    "def gcd1 (m,n):\n",
    "    if m < n :\n",
    "        (m,n) = (n,m)\n",
    "    if m%n = 0:\n",
    "        return(n)\n",
    "    else:\n",
    "        diff = m-n\n",
    "        return(gcd1(n,diff)) #recursive function \n"
   ]
  },
  {
   "cell_type": "markdown",
   "metadata": {},
   "source": [
    "diff could be bigger than n: gcd1(77,2) , m is 77 , n is 2, diff is 75 ....\n",
    "If the smaller number is too small it is always better to scan the factors. \n"
   ]
  },
  {
   "cell_type": "markdown",
   "metadata": {},
   "source": [
    "Better to scan in reverse, rom min(m,n) to 1, then the 1st factor we find is the gcd"
   ]
  },
  {
   "cell_type": "code",
   "execution_count": null,
   "metadata": {},
   "outputs": [],
   "source": [
    "def gcd5(m,n):\n",
    "    i = min(m,n)\n",
    "    while i > 0:\n",
    "        if m%i==0 and n%i==0 :\n",
    "            return(i)\n",
    "        else:\n",
    "            i = i-1"
   ]
  },
  {
   "cell_type": "markdown",
   "metadata": {},
   "source": [
    "Euclid's algorithm for gcd, \n",
    "if d divides m & n, d divides m-n\n",
    "if n does not divide m,\n",
    "m = qn + r  r>0\n",
    "\n",
    "we are looking for d divides m - ad\n",
    "d divides n - bd\n",
    "ad = q(bd)+r\n",
    "d(a-qb) = r\n",
    "so d divides r\n",
    "if d divides m & n, d divides m%n\n",
    "\n",
    "Euclid's Algo : if the number d divides m & n then d divides m%n"
   ]
  },
  {
   "cell_type": "markdown",
   "metadata": {},
   "source": [
    "So, what is efficient when we are working with numbers?\n",
    "input size - n \n",
    "computation as a function of n \n",
    "\n"
   ]
  },
  {
   "cell_type": "code",
   "execution_count": 10,
   "metadata": {},
   "outputs": [],
   "source": [
    "def gcd8(m,n):\n",
    "    if m<n :\n",
    "        (m,n) = (n,m)\n",
    "    if (m%n) == 0:\n",
    "        return (n)\n",
    "    else:\n",
    "        return (gcd8(n,m%n)) # m%n < n, always!\n"
   ]
  },
  {
   "cell_type": "code",
   "execution_count": 13,
   "metadata": {},
   "outputs": [
    {
     "data": {
      "text/plain": [
       "1"
      ]
     },
     "execution_count": 13,
     "metadata": {},
     "output_type": "execute_result"
    }
   ],
   "source": [
    "gcd8(11451, 5845)"
   ]
  },
  {
   "cell_type": "markdown",
   "metadata": {},
   "source": [
    "# Names and values"
   ]
  },
  {
   "cell_type": "code",
   "execution_count": 14,
   "metadata": {},
   "outputs": [],
   "source": [
    "#This is a coment .... an explanation that is not executed \n",
    "# Assigning a value to a name\n",
    "x = 7"
   ]
  },
  {
   "cell_type": "code",
   "execution_count": 15,
   "metadata": {},
   "outputs": [
    {
     "data": {
      "text/plain": [
       "7"
      ]
     },
     "execution_count": 15,
     "metadata": {},
     "output_type": "execute_result"
    }
   ],
   "source": [
    "x"
   ]
  },
  {
   "cell_type": "code",
   "execution_count": 16,
   "metadata": {},
   "outputs": [],
   "source": [
    "y = x + 8"
   ]
  },
  {
   "cell_type": "code",
   "execution_count": 17,
   "metadata": {},
   "outputs": [
    {
     "data": {
      "text/plain": [
       "15"
      ]
     },
     "execution_count": 17,
     "metadata": {},
     "output_type": "execute_result"
    }
   ],
   "source": [
    "y"
   ]
  },
  {
   "cell_type": "code",
   "execution_count": 18,
   "metadata": {},
   "outputs": [
    {
     "ename": "NameError",
     "evalue": "name 'z' is not defined",
     "output_type": "error",
     "traceback": [
      "\u001b[1;31m---------------------------------------------------------------------------\u001b[0m",
      "\u001b[1;31mNameError\u001b[0m                                 Traceback (most recent call last)",
      "\u001b[1;32m<ipython-input-18-77221b398280>\u001b[0m in \u001b[0;36m<module>\u001b[1;34m\u001b[0m\n\u001b[1;32m----> 1\u001b[1;33m \u001b[0my\u001b[0m \u001b[1;33m=\u001b[0m \u001b[0mz\u001b[0m \u001b[1;33m+\u001b[0m \u001b[1;36m9\u001b[0m\u001b[1;33m\u001b[0m\u001b[1;33m\u001b[0m\u001b[0m\n\u001b[0m",
      "\u001b[1;31mNameError\u001b[0m: name 'z' is not defined"
     ]
    }
   ],
   "source": [
    "y = z + 9"
   ]
  },
  {
   "cell_type": "code",
   "execution_count": 19,
   "metadata": {},
   "outputs": [],
   "source": [
    "z = y + 9"
   ]
  },
  {
   "cell_type": "code",
   "execution_count": 20,
   "metadata": {},
   "outputs": [
    {
     "data": {
      "text/plain": [
       "24"
      ]
     },
     "execution_count": 20,
     "metadata": {},
     "output_type": "execute_result"
    }
   ],
   "source": [
    "z"
   ]
  },
  {
   "cell_type": "markdown",
   "metadata": {},
   "source": [
    "Values have \"types\" -- numbers, lists, .... : \"data type\"\n",
    "- Type defines what operations are allowed on the value\n",
    "- numbers allow arithmatic: +, -, *, /\n",
    "- List: append values, find the value at position i etc. \n",
    "\n",
    "\n",
    "Python types\n",
    "\n",
    "- Numbers : natural numbers, intergers, real, complex, .....\n",
    "- In python, essentially to varieties of numbers: interets, reals \n",
    "  - Historically, these are representes differently inside the computer \n",
    "- Reals have a decimal point and integers do not \n"
   ]
  },
  {
   "cell_type": "code",
   "execution_count": 21,
   "metadata": {},
   "outputs": [],
   "source": [
    "x = 7.7 "
   ]
  },
  {
   "cell_type": "code",
   "execution_count": 22,
   "metadata": {},
   "outputs": [
    {
     "data": {
      "text/plain": [
       "float"
      ]
     },
     "execution_count": 22,
     "metadata": {},
     "output_type": "execute_result"
    }
   ],
   "source": [
    "type(x)"
   ]
  },
  {
   "cell_type": "markdown",
   "metadata": {},
   "source": [
    "Why float?\n",
    "- Floating decimal point -- $6.02\\times 10^{-23}$\n",
    "- Integers have a fixed decimal point at the right hand end of the number \n"
   ]
  },
  {
   "cell_type": "code",
   "execution_count": 25,
   "metadata": {},
   "outputs": [],
   "source": [
    "# Operations preserve value \n",
    "x = 7\n",
    "a = x + 3\n",
    "b = x -4\n",
    "c = x * 8\n",
    "d = x/7\n",
    "e = x // 6 #Quotient\n",
    "r = x % 6 #Remainder"
   ]
  },
  {
   "cell_type": "code",
   "execution_count": 27,
   "metadata": {},
   "outputs": [
    {
     "data": {
      "text/plain": [
       "(10, int, 3, int, 56, int, 1.0, float, 1, int, 1, int)"
      ]
     },
     "execution_count": 27,
     "metadata": {},
     "output_type": "execute_result"
    }
   ],
   "source": [
    "(a, type(a), b, type(b), c, type(c), d, type(d), e , type(e), r, type(r))"
   ]
  },
  {
   "cell_type": "markdown",
   "metadata": {},
   "source": [
    "Size limiation of integers"
   ]
  },
  {
   "cell_type": "code",
   "execution_count": 29,
   "metadata": {},
   "outputs": [
    {
     "data": {
      "text/plain": [
       "(-1.4000000000000004, float, 0.0, float, 1.4000000000000004, float)"
      ]
     },
     "execution_count": 29,
     "metadata": {},
     "output_type": "execute_result"
    }
   ],
   "source": [
    "y = 7.5\n",
    "z = 8.9\n",
    "w = y-z\n",
    "\n",
    "q =y//z\n",
    "r = z%y\n",
    "(w, type(w), q, type(q), r, type(r))"
   ]
  },
  {
   "cell_type": "markdown",
   "metadata": {},
   "source": [
    "Binary and decimal representations of fractions have different behviour\n",
    "- 0.1 is an infinite recurrinf fraction in binary \n",
    "- 1/3 and 2/3 are not finite decimal fractions , 0.3333..., 0.6666... = 0.99999"
   ]
  },
  {
   "cell_type": "code",
   "execution_count": null,
   "metadata": {},
   "outputs": [],
   "source": []
  },
  {
   "cell_type": "code",
   "execution_count": null,
   "metadata": {},
   "outputs": [],
   "source": []
  }
 ],
 "metadata": {
  "kernelspec": {
   "display_name": "Python 3",
   "language": "python",
   "name": "python3"
  },
  "language_info": {
   "codemirror_mode": {
    "name": "ipython",
    "version": 3
   },
   "file_extension": ".py",
   "mimetype": "text/x-python",
   "name": "python",
   "nbconvert_exporter": "python",
   "pygments_lexer": "ipython3",
   "version": "3.8.5"
  }
 },
 "nbformat": 4,
 "nbformat_minor": 4
}
