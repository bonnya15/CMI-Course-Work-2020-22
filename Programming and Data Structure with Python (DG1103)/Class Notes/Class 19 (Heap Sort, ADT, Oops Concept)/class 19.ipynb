{
 "cells": [
  {
   "cell_type": "markdown",
   "metadata": {},
   "source": [
    "# What does it mean by Data Structure?"
   ]
  },
  {
   "cell_type": "markdown",
   "metadata": {},
   "source": [
    "How the data is stored, and how they are organised wrt to the values like heap property or shorted etc. Most important thing is that how we are using it. \n",
    "\n",
    "We have a restrictions on the set of operations. We call it an interface. \n",
    "\n",
    "- In case of Stack, we can do push and pops in both the ends. The behaviour or a stack doesn't fix at which side the operations are going to take place. \n",
    "\n",
    "Define behaviour in terms of operation \n",
    "\n",
    "(s.push(v)).pop() == v \n",
    "\n",
    "\n",
    "Application Programming Interface (API)"
   ]
  },
  {
   "cell_type": "markdown",
   "metadata": {},
   "source": [
    "Abstract Data type - black box. "
   ]
  },
  {
   "cell_type": "code",
   "execution_count": 2,
   "metadata": {},
   "outputs": [],
   "source": [
    "import math\n",
    "class point:\n",
    "    def __init__(self, a,b):\n",
    "        self.x = a\n",
    "        self.y = b\n",
    "    def translate(self, deltax, deltay):\n",
    "        self.x += deltax\n",
    "        self.y += deltay\n",
    "        return(self.x, self.y)\n",
    "    def odistance(self):\n",
    "        return((math.sqrt((self.x*self.x) + (self.y*self.y))))\n",
    "       "
   ]
  },
  {
   "cell_type": "code",
   "execution_count": 3,
   "metadata": {},
   "outputs": [
    {
     "name": "stdout",
     "output_type": "stream",
     "text": [
      "(6, 4)\n"
     ]
    },
    {
     "data": {
      "text/plain": [
       "7.211102550927978"
      ]
     },
     "execution_count": 3,
     "metadata": {},
     "output_type": "execute_result"
    }
   ],
   "source": [
    "p = point(5,2)\n",
    "print(p.translate(1,2))\n",
    "p.odistance()"
   ]
  },
  {
   "cell_type": "code",
   "execution_count": 4,
   "metadata": {},
   "outputs": [],
   "source": [
    "import math\n",
    "class Point:\n",
    "    def __init__(self,a,b):\n",
    "        self.r = math.sqrt(a*a + b*b)\n",
    "        if a == 0:\n",
    "            self.theta = 0\n",
    "        else:\n",
    "            self.theta = math.atan(b/a)\n",
    "            \n",
    "    def odistance(self):\n",
    "        return(self.r)\n",
    "    def angle(self):\n",
    "        return(self.theta)"
   ]
  },
  {
   "cell_type": "code",
   "execution_count": 8,
   "metadata": {},
   "outputs": [
    {
     "data": {
      "text/plain": [
       "5.0"
      ]
     },
     "execution_count": 8,
     "metadata": {},
     "output_type": "execute_result"
    }
   ],
   "source": [
    "p1 = Point(3,4)\n",
    "p1.odistance()\n"
   ]
  },
  {
   "cell_type": "code",
   "execution_count": 9,
   "metadata": {},
   "outputs": [
    {
     "data": {
      "text/plain": [
       "0.9272952180016122"
      ]
     },
     "execution_count": 9,
     "metadata": {},
     "output_type": "execute_result"
    }
   ],
   "source": [
    "p1.angle()"
   ]
  },
  {
   "cell_type": "code",
   "execution_count": 10,
   "metadata": {},
   "outputs": [],
   "source": [
    "class point1:\n",
    "    def __init__(self, a = 0, b = 0):\n",
    "        self.x = a\n",
    "        self.y = b\n",
    "    def coordinate(self):\n",
    "        return(self.x, self.y)\n",
    "    def __str__(self):\n",
    "        return('('+str(self.x)+','+str(self.y)+')')\n",
    "    def __add__(self,p):\n",
    "        newp = point1(self.x+p.x, self.y+p.y)\n",
    "        return(newp)"
   ]
  },
  {
   "cell_type": "code",
   "execution_count": 16,
   "metadata": {},
   "outputs": [
    {
     "name": "stdout",
     "output_type": "stream",
     "text": [
      "(7,3)\n"
     ]
    }
   ],
   "source": [
    "p2 = point1(5)\n",
    "p3 = point1(2,3)\n",
    "p2.coordinate()\n",
    "p4 = p2 + p3\n",
    "print(p4)"
   ]
  },
  {
   "cell_type": "code",
   "execution_count": 17,
   "metadata": {},
   "outputs": [
    {
     "data": {
      "text/plain": [
       "'(5,0)'"
      ]
     },
     "execution_count": 17,
     "metadata": {},
     "output_type": "execute_result"
    }
   ],
   "source": [
    "p2.__str__()"
   ]
  },
  {
   "cell_type": "code",
   "execution_count": 20,
   "metadata": {},
   "outputs": [
    {
     "data": {
      "text/plain": [
       "(7, 3)"
      ]
     },
     "execution_count": 20,
     "metadata": {},
     "output_type": "execute_result"
    }
   ],
   "source": [
    "p4.coordinate()"
   ]
  }
 ],
 "metadata": {
  "kernelspec": {
   "display_name": "Python 3",
   "language": "python",
   "name": "python3"
  },
  "language_info": {
   "codemirror_mode": {
    "name": "ipython",
    "version": 3
   },
   "file_extension": ".py",
   "mimetype": "text/x-python",
   "name": "python",
   "nbconvert_exporter": "python",
   "pygments_lexer": "ipython3",
   "version": "3.8.5"
  }
 },
 "nbformat": 4,
 "nbformat_minor": 4
}
