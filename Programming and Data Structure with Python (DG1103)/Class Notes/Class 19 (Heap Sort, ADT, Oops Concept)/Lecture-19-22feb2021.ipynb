{
 "cells": [
  {
   "cell_type": "markdown",
   "metadata": {},
   "source": [
    "# Programming and Data Structures with Python\n",
    "# Lecture 19, 22 February 2021"
   ]
  },
  {
   "cell_type": "markdown",
   "metadata": {},
   "source": [
    "### Class `Point`"
   ]
  },
  {
   "cell_type": "code",
   "execution_count": 10,
   "metadata": {},
   "outputs": [],
   "source": [
    "from math import *\n",
    "\n",
    "class Point:\n",
    "    def __init__(self,a=0,b=0):\n",
    "        self.x = a\n",
    "        self.y = b\n",
    "        return\n",
    "\n",
    "    def translate(self,deltax,deltay):\n",
    "        self.x += deltax\n",
    "        self.y += deltay\n",
    "        return\n",
    "\n",
    "    def odistance(self):\n",
    "        return(sqrt(self.x*self.x + self.y*self.y))\n",
    "\n",
    "    def __str__(self):  # For Point()\n",
    "        return('('+str(self.x)+','+str(self.y)+')')\n",
    "\n",
    "    def __add__(self,p):\n",
    "        newp = Point(self.x+p.x,self.y+p.y)\n",
    "        return(newp)"
   ]
  },
  {
   "cell_type": "code",
   "execution_count": 11,
   "metadata": {},
   "outputs": [
    {
     "name": "stdout",
     "output_type": "stream",
     "text": [
      "(3,2) (7,10) (10,12)\n"
     ]
    }
   ],
   "source": [
    "p1 = Point(3,2)\n",
    "p2 = Point(7,10)\n",
    "p3 = p1 + p2\n",
    "print(p1,p2,p3)"
   ]
  },
  {
   "cell_type": "markdown",
   "metadata": {},
   "source": [
    "### Without `__init__`"
   ]
  },
  {
   "cell_type": "code",
   "execution_count": 3,
   "metadata": {},
   "outputs": [],
   "source": [
    "from math import *\n",
    "\n",
    "class Point:\n",
    "    # def __init__(self,a=0,b=0):\n",
    "        # self.x = a\n",
    "        # self.y = b\n",
    "        # return\n",
    "\n",
    "    def addattributes(self,a,b):\n",
    "        self.x = a\n",
    "        self.y = b\n",
    "\n",
    "    def delattributes(self):\n",
    "        del(self.x)\n",
    "        del(self.y)\n",
    "        \n",
    "    def translate(self,deltax,deltay):\n",
    "        self.x += deltax\n",
    "        self.y += deltay\n",
    "        return\n",
    "\n",
    "    def odistance(self):\n",
    "        return(sqrt(self.x*self.x + self.y*self.y))\n",
    "\n",
    "    def __str__(self):  # For Point()\n",
    "        return('('+str(self.x)+','+str(self.y)+')')\n",
    "\n",
    "    def __add__(self,p):\n",
    "        newp = Point(self.x+p.x,self.y+p.y)\n",
    "        return(newp)\n",
    "    \n",
    "    def __lt__(self,p):\n",
    "        if self.x < p.x:\n",
    "            return(False)\n",
    "        if self.x == p.x and self.y < p.y:\n",
    "            return(False)\n",
    "        return(False)"
   ]
  },
  {
   "cell_type": "code",
   "execution_count": 4,
   "metadata": {},
   "outputs": [
    {
     "ename": "AttributeError",
     "evalue": "'Point' object has no attribute 'x'",
     "output_type": "error",
     "traceback": [
      "\u001b[0;31m---------------------------------------------------------------------------\u001b[0m",
      "\u001b[0;31mAttributeError\u001b[0m                            Traceback (most recent call last)",
      "\u001b[0;32m<ipython-input-4-bff707fda8eb>\u001b[0m in \u001b[0;36m<module>\u001b[0;34m\u001b[0m\n\u001b[1;32m      1\u001b[0m \u001b[0mp4\u001b[0m \u001b[0;34m=\u001b[0m \u001b[0mPoint\u001b[0m\u001b[0;34m(\u001b[0m\u001b[0;34m)\u001b[0m\u001b[0;34m\u001b[0m\u001b[0;34m\u001b[0m\u001b[0m\n\u001b[0;32m----> 2\u001b[0;31m \u001b[0mprint\u001b[0m\u001b[0;34m(\u001b[0m\u001b[0mp4\u001b[0m\u001b[0;34m)\u001b[0m\u001b[0;34m\u001b[0m\u001b[0;34m\u001b[0m\u001b[0m\n\u001b[0m",
      "\u001b[0;32m<ipython-input-3-d41a266eb302>\u001b[0m in \u001b[0;36m__str__\u001b[0;34m(self)\u001b[0m\n\u001b[1;32m     24\u001b[0m \u001b[0;34m\u001b[0m\u001b[0m\n\u001b[1;32m     25\u001b[0m     \u001b[0;32mdef\u001b[0m \u001b[0m__str__\u001b[0m\u001b[0;34m(\u001b[0m\u001b[0mself\u001b[0m\u001b[0;34m)\u001b[0m\u001b[0;34m:\u001b[0m  \u001b[0;31m# For Point()\u001b[0m\u001b[0;34m\u001b[0m\u001b[0;34m\u001b[0m\u001b[0m\n\u001b[0;32m---> 26\u001b[0;31m         \u001b[0;32mreturn\u001b[0m\u001b[0;34m(\u001b[0m\u001b[0;34m'('\u001b[0m\u001b[0;34m+\u001b[0m\u001b[0mstr\u001b[0m\u001b[0;34m(\u001b[0m\u001b[0mself\u001b[0m\u001b[0;34m.\u001b[0m\u001b[0mx\u001b[0m\u001b[0;34m)\u001b[0m\u001b[0;34m+\u001b[0m\u001b[0;34m','\u001b[0m\u001b[0;34m+\u001b[0m\u001b[0mstr\u001b[0m\u001b[0;34m(\u001b[0m\u001b[0mself\u001b[0m\u001b[0;34m.\u001b[0m\u001b[0my\u001b[0m\u001b[0;34m)\u001b[0m\u001b[0;34m+\u001b[0m\u001b[0;34m')'\u001b[0m\u001b[0;34m)\u001b[0m\u001b[0;34m\u001b[0m\u001b[0;34m\u001b[0m\u001b[0m\n\u001b[0m\u001b[1;32m     27\u001b[0m \u001b[0;34m\u001b[0m\u001b[0m\n\u001b[1;32m     28\u001b[0m     \u001b[0;32mdef\u001b[0m \u001b[0m__add__\u001b[0m\u001b[0;34m(\u001b[0m\u001b[0mself\u001b[0m\u001b[0;34m,\u001b[0m\u001b[0mp\u001b[0m\u001b[0;34m)\u001b[0m\u001b[0;34m:\u001b[0m\u001b[0;34m\u001b[0m\u001b[0;34m\u001b[0m\u001b[0m\n",
      "\u001b[0;31mAttributeError\u001b[0m: 'Point' object has no attribute 'x'"
     ]
    }
   ],
   "source": [
    "p4 = Point()\n",
    "print(p4)"
   ]
  },
  {
   "cell_type": "code",
   "execution_count": 7,
   "metadata": {},
   "outputs": [
    {
     "name": "stdout",
     "output_type": "stream",
     "text": [
      "(3,4)\n"
     ]
    }
   ],
   "source": [
    "p4.addattributes(3,4)\n",
    "print(p4)"
   ]
  },
  {
   "cell_type": "markdown",
   "metadata": {},
   "source": [
    "### Without `__add__`"
   ]
  },
  {
   "cell_type": "code",
   "execution_count": 13,
   "metadata": {},
   "outputs": [],
   "source": [
    "from math import *\n",
    "\n",
    "class Point:\n",
    "    def __init__(self,a=0,b=0):\n",
    "        self.x = a\n",
    "        self.y = b\n",
    "        return\n",
    "\n",
    "    def translate(self,deltax,deltay):\n",
    "        self.x += deltax\n",
    "        self.y += deltay\n",
    "        return\n",
    "\n",
    "    def odistance(self):\n",
    "        return(sqrt(self.x*self.x + self.y*self.y))\n",
    "\n",
    "    def __str__(self):  # For Point()\n",
    "        return('('+str(self.x)+','+str(self.y)+')')"
   ]
  },
  {
   "cell_type": "code",
   "execution_count": 14,
   "metadata": {},
   "outputs": [
    {
     "ename": "TypeError",
     "evalue": "unsupported operand type(s) for +: 'Point' and 'Point'",
     "output_type": "error",
     "traceback": [
      "\u001b[0;31m---------------------------------------------------------------------------\u001b[0m",
      "\u001b[0;31mTypeError\u001b[0m                                 Traceback (most recent call last)",
      "\u001b[0;32m<ipython-input-14-e57542f3fb3e>\u001b[0m in \u001b[0;36m<module>\u001b[0;34m\u001b[0m\n\u001b[1;32m      1\u001b[0m \u001b[0mp1\u001b[0m \u001b[0;34m=\u001b[0m \u001b[0mPoint\u001b[0m\u001b[0;34m(\u001b[0m\u001b[0;36m3\u001b[0m\u001b[0;34m,\u001b[0m\u001b[0;36m2\u001b[0m\u001b[0;34m)\u001b[0m\u001b[0;34m\u001b[0m\u001b[0;34m\u001b[0m\u001b[0m\n\u001b[1;32m      2\u001b[0m \u001b[0mp2\u001b[0m \u001b[0;34m=\u001b[0m \u001b[0mPoint\u001b[0m\u001b[0;34m(\u001b[0m\u001b[0;36m7\u001b[0m\u001b[0;34m,\u001b[0m\u001b[0;36m10\u001b[0m\u001b[0;34m)\u001b[0m\u001b[0;34m\u001b[0m\u001b[0;34m\u001b[0m\u001b[0m\n\u001b[0;32m----> 3\u001b[0;31m \u001b[0mp3\u001b[0m \u001b[0;34m=\u001b[0m \u001b[0mp1\u001b[0m \u001b[0;34m+\u001b[0m \u001b[0mp2\u001b[0m\u001b[0;34m\u001b[0m\u001b[0;34m\u001b[0m\u001b[0m\n\u001b[0m",
      "\u001b[0;31mTypeError\u001b[0m: unsupported operand type(s) for +: 'Point' and 'Point'"
     ]
    }
   ],
   "source": [
    "p1 = Point(3,2)\n",
    "p2 = Point(7,10)\n",
    "p3 = p1 + p2"
   ]
  },
  {
   "cell_type": "markdown",
   "metadata": {},
   "source": [
    "### Adding `__lt__`"
   ]
  },
  {
   "cell_type": "code",
   "execution_count": 16,
   "metadata": {},
   "outputs": [],
   "source": [
    "from math import *\n",
    "\n",
    "class Point:\n",
    "    def __init__(self,a=0,b=0):\n",
    "        self.x = a\n",
    "        self.y = b\n",
    "        return\n",
    "\n",
    "    def translate(self,deltax,deltay):\n",
    "        self.x += deltax\n",
    "        self.y += deltay\n",
    "        return\n",
    "\n",
    "    def odistance(self):\n",
    "        return(sqrt(self.x*self.x + self.y*self.y))\n",
    "\n",
    "    def __str__(self):  # For Point()\n",
    "        return('('+str(self.x)+','+str(self.y)+')')\n",
    "\n",
    "    def __add__(self,p):\n",
    "        newp = Point(self.x+p.x,self.y+p.y)\n",
    "        return(newp)\n",
    "\n",
    "    def __lt__(self,p):\n",
    "        if self.x < p.x:\n",
    "            return(True)\n",
    "        if self.x == p.x and self.y < p.y:\n",
    "            return(True)\n",
    "        return(False)"
   ]
  },
  {
   "cell_type": "code",
   "execution_count": 18,
   "metadata": {},
   "outputs": [
    {
     "data": {
      "text/plain": [
       "(True, True, False, True)"
      ]
     },
     "execution_count": 18,
     "metadata": {},
     "output_type": "execute_result"
    }
   ],
   "source": [
    "p1 = Point(1,2)\n",
    "p2 = Point(2,3)\n",
    "p3 = Point(2,1)\n",
    "p1 < p2, p1 < p3, p2 < p3, p3 < p2"
   ]
  }
 ],
 "metadata": {
  "kernelspec": {
   "display_name": "Python 3",
   "language": "python",
   "name": "python3"
  },
  "language_info": {
   "codemirror_mode": {
    "name": "ipython",
    "version": 3
   },
   "file_extension": ".py",
   "mimetype": "text/x-python",
   "name": "python",
   "nbconvert_exporter": "python",
   "pygments_lexer": "ipython3",
   "version": "3.7.7"
  }
 },
 "nbformat": 4,
 "nbformat_minor": 4
}
