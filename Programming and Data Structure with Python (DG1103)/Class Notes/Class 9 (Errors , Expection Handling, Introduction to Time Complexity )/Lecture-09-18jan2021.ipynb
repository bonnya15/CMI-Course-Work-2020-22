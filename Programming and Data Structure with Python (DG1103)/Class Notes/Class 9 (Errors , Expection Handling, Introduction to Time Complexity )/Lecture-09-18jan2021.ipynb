{
 "cells": [
  {
   "cell_type": "markdown",
   "metadata": {},
   "source": [
    "# Programming and Data Structures with Python\n",
    "# Lecture 09, 18 January 2021"
   ]
  },
  {
   "cell_type": "code",
   "execution_count": 3,
   "metadata": {},
   "outputs": [],
   "source": [
    "z = 5"
   ]
  },
  {
   "cell_type": "code",
   "execution_count": 7,
   "metadata": {},
   "outputs": [
    {
     "name": "stdout",
     "output_type": "stream",
     "text": [
      "Sorry\n",
      "w is not defined\n"
     ]
    }
   ],
   "source": [
    "try:\n",
    "    x = 7/1 + w\n",
    "except NameError:\n",
    "    print(\"Sorry\")\n",
    "    print(\"w is not defined\")\n",
    "except:\n",
    "    print(\"Divide by 0\")\n",
    "else:\n",
    "    print(\"It worked!\")"
   ]
  },
  {
   "cell_type": "code",
   "execution_count": 9,
   "metadata": {},
   "outputs": [
    {
     "name": "stdout",
     "output_type": "stream",
     "text": [
      "10 0 10000\n"
     ]
    }
   ],
   "source": [
    "def f(x,y):\n",
    "    return(x/y)\n",
    "\n",
    "a = 10\n",
    "b = 0\n",
    "try:\n",
    "    c = f(a,b)\n",
    "except ZeroDivisionError:\n",
    "    c = 10000\n",
    "print(a,b,c)"
   ]
  },
  {
   "cell_type": "code",
   "execution_count": 17,
   "metadata": {},
   "outputs": [
    {
     "name": "stdout",
     "output_type": "stream",
     "text": [
      "100000000\n"
     ]
    }
   ],
   "source": [
    "x = 0\n",
    "for i in range(10**8):\n",
    "    x = x + 1\n",
    "print(x)"
   ]
  }
 ],
 "metadata": {
  "kernelspec": {
   "display_name": "Python 3",
   "language": "python",
   "name": "python3"
  },
  "language_info": {
   "codemirror_mode": {
    "name": "ipython",
    "version": 3
   },
   "file_extension": ".py",
   "mimetype": "text/x-python",
   "name": "python",
   "nbconvert_exporter": "python",
   "pygments_lexer": "ipython3",
   "version": "3.7.7"
  }
 },
 "nbformat": 4,
 "nbformat_minor": 4
}
