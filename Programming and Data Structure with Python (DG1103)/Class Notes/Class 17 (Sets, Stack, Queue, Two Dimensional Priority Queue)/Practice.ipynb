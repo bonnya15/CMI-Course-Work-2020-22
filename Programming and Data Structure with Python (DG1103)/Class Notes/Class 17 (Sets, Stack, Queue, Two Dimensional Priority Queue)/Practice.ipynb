{
 "cells": [
  {
   "cell_type": "markdown",
   "metadata": {},
   "source": [
    "# Sets"
   ]
  },
  {
   "cell_type": "code",
   "execution_count": 1,
   "metadata": {},
   "outputs": [
    {
     "data": {
      "text/plain": [
       "{1, 2, 3, 4, 5}"
      ]
     },
     "execution_count": 1,
     "metadata": {},
     "output_type": "execute_result"
    }
   ],
   "source": [
    "numbers = set([1,2,3,1,2,4,5])\n",
    "numbers\n"
   ]
  },
  {
   "cell_type": "code",
   "execution_count": 2,
   "metadata": {},
   "outputs": [
    {
     "data": {
      "text/plain": [
       "{'a', 'b', 'n'}"
      ]
     },
     "execution_count": 2,
     "metadata": {},
     "output_type": "execute_result"
    }
   ],
   "source": [
    "letters = set('banana')\n",
    "letters"
   ]
  },
  {
   "cell_type": "markdown",
   "metadata": {},
   "source": [
    "# Stack"
   ]
  },
  {
   "cell_type": "markdown",
   "metadata": {},
   "source": [
    "List Implementation of a Stack\n",
    "- Instead of push() append is used \n",
    "- pop() removes the element in LIFO order \n",
    "\n",
    "\n",
    "Issues - \n",
    "- It can run into speed issues as it grows \n",
    "- The items in the list are stored next to each other in memory, if the stack grows bigger than the block of memory that currently hold it, then Python needs to do some memory allocations. This can lead to some append() calls taking much longer than other ones."
   ]
  },
  {
   "cell_type": "code",
   "execution_count": 8,
   "metadata": {},
   "outputs": [
    {
     "data": {
      "text/plain": [
       "['a', 'b']"
      ]
     },
     "execution_count": 8,
     "metadata": {},
     "output_type": "execute_result"
    }
   ],
   "source": [
    "stack = []\n",
    "\n",
    "# append function to push\n",
    "\n",
    "stack.append('a')\n",
    "stack.append('b')\n",
    "stack"
   ]
  },
  {
   "cell_type": "code",
   "execution_count": 9,
   "metadata": {},
   "outputs": [
    {
     "data": {
      "text/plain": [
       "['a']"
      ]
     },
     "execution_count": 9,
     "metadata": {},
     "output_type": "execute_result"
    }
   ],
   "source": [
    "# pop() function to pop\n",
    "stack.pop()\n",
    "stack"
   ]
  },
  {
   "cell_type": "code",
   "execution_count": 20,
   "metadata": {},
   "outputs": [
    {
     "data": {
      "text/plain": [
       "deque(['a', 'b', 'c', 'd', 'e'])"
      ]
     },
     "execution_count": 20,
     "metadata": {},
     "output_type": "execute_result"
    }
   ],
   "source": [
    "from collections import deque\n",
    "\n",
    "stack1 = deque()\n",
    "\n",
    "stack1.append('a')\n",
    "stack1.append('b')\n",
    "stack1.append('c')\n",
    "stack1.append('d')\n",
    "stack1.append('e')\n",
    "stack1"
   ]
  },
  {
   "cell_type": "code",
   "execution_count": 21,
   "metadata": {},
   "outputs": [
    {
     "data": {
      "text/plain": [
       "'e'"
      ]
     },
     "execution_count": 21,
     "metadata": {},
     "output_type": "execute_result"
    }
   ],
   "source": [
    "stack1.pop() # Python bulit-in returns last element \n"
   ]
  },
  {
   "cell_type": "code",
   "execution_count": 22,
   "metadata": {},
   "outputs": [
    {
     "data": {
      "text/plain": [
       "deque(['a', 'b', 'c', 'd'])"
      ]
     },
     "execution_count": 22,
     "metadata": {},
     "output_type": "execute_result"
    }
   ],
   "source": [
    "stack1"
   ]
  },
  {
   "cell_type": "markdown",
   "metadata": {},
   "source": [
    "# Queues"
   ]
  },
  {
   "cell_type": "markdown",
   "metadata": {},
   "source": [
    "First-in, first-out sequences \n",
    "\n",
    "Using python Lists\n",
    "- addq(q,x) - adds x to rear of queue q is q.insert(0,x)\n",
    "- remove(r) - removes element at head of q  is q.pop()"
   ]
  },
  {
   "cell_type": "code",
   "execution_count": 24,
   "metadata": {},
   "outputs": [
    {
     "data": {
      "text/plain": [
       "['d', 'c', 'b', 'a']"
      ]
     },
     "execution_count": 24,
     "metadata": {},
     "output_type": "execute_result"
    }
   ],
   "source": [
    "q = []\n",
    "\n",
    "#adding to queue\n",
    "\n",
    "q.insert(0,'a')\n",
    "q.insert(0,'b')\n",
    "q.insert(0,'c')\n",
    "q.insert(0,'d')\n",
    "q\n",
    "\n"
   ]
  },
  {
   "cell_type": "code",
   "execution_count": 25,
   "metadata": {},
   "outputs": [
    {
     "data": {
      "text/plain": [
       "['d', 'c', 'b']"
      ]
     },
     "execution_count": 25,
     "metadata": {},
     "output_type": "execute_result"
    }
   ],
   "source": [
    "q.pop()\n",
    "q"
   ]
  },
  {
   "cell_type": "markdown",
   "metadata": {},
   "source": [
    "# Systematic Exploration "
   ]
  },
  {
   "cell_type": "code",
   "execution_count": 35,
   "metadata": {},
   "outputs": [],
   "source": [
    "def explore(sx,sy,tx,ty,m,n):\n",
    "    marked = [[0 for i in range(n)] for j in range(m)]\n",
    "    marked[sx][sy] = 1\n",
    "    \n",
    "    q = [(sx,sy)]\n",
    "    \n",
    "    while q != []:\n",
    "        (ax,ay) = q.pop()\n",
    "        for (nx,ny) in neighbours(m,n,ax,ay):\n",
    "            if (marked[nx][ny] != 1):\n",
    "                marked[nx][ny] = 1\n",
    "                q.insert(0,(nx,ny))\n",
    "    return(marked[tx][ty])\n",
    "        \n",
    "\n",
    "def issafe(m,n,x,y):\n",
    "    if(x >= 0 and y >= 0 and x < m and y < n):\n",
    "        return(True)\n",
    "    return(False)    \n",
    "\n",
    "def neighbours(m,n,x,y):\n",
    "    mx = [2, 1, -1, -2, -2, -1, 1, 2]\n",
    "    my = [1, 2, 2, 1, -1, -2, -2, -1]\n",
    "    new = []\n",
    "    for i in range(8):\n",
    "        if issafe(m,n,x + mx[i] , y + my[i]):\n",
    "            new.append(((x + mx[i]) , y + my[i]))\n",
    "    return(new)"
   ]
  },
  {
   "cell_type": "code",
   "execution_count": 37,
   "metadata": {},
   "outputs": [
    {
     "data": {
      "text/plain": [
       "1"
      ]
     },
     "execution_count": 37,
     "metadata": {},
     "output_type": "execute_result"
    }
   ],
   "source": [
    "explore(0,1,2,2,3,3)"
   ]
  },
  {
   "cell_type": "code",
   "execution_count": null,
   "metadata": {},
   "outputs": [],
   "source": []
  },
  {
   "cell_type": "code",
   "execution_count": null,
   "metadata": {},
   "outputs": [],
   "source": []
  },
  {
   "cell_type": "code",
   "execution_count": null,
   "metadata": {},
   "outputs": [],
   "source": []
  },
  {
   "cell_type": "code",
   "execution_count": null,
   "metadata": {},
   "outputs": [],
   "source": []
  },
  {
   "cell_type": "code",
   "execution_count": null,
   "metadata": {},
   "outputs": [],
   "source": []
  },
  {
   "cell_type": "code",
   "execution_count": null,
   "metadata": {},
   "outputs": [],
   "source": []
  }
 ],
 "metadata": {
  "kernelspec": {
   "display_name": "Python 3",
   "language": "python",
   "name": "python3"
  },
  "language_info": {
   "codemirror_mode": {
    "name": "ipython",
    "version": 3
   },
   "file_extension": ".py",
   "mimetype": "text/x-python",
   "name": "python",
   "nbconvert_exporter": "python",
   "pygments_lexer": "ipython3",
   "version": "3.8.5"
  }
 },
 "nbformat": 4,
 "nbformat_minor": 4
}
