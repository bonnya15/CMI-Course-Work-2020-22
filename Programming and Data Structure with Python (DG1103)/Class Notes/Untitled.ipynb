{
 "cells": [
  {
   "cell_type": "code",
   "execution_count": 10,
   "metadata": {},
   "outputs": [
    {
     "name": "stdout",
     "output_type": "stream",
     "text": [
      "[1, 45, 2, 0]\n",
      "Kenneth 2 5 5\n",
      "Rosen 2 45 1\n"
     ]
    }
   ],
   "source": [
    "l = [[\"Kenneth\", 2,5,5],[\"Rosen\", 2,45,1]]\n",
    "a = [1,45,2,0]\n",
    "print(str(a))\n",
    "\n",
    "for e in l:\n",
    "    print(\" \".join(map(lambda x: str(x) ,e)))"
   ]
  },
  {
   "cell_type": "code",
   "execution_count": 14,
   "metadata": {},
   "outputs": [
    {
     "name": "stdout",
     "output_type": "stream",
     "text": [
      "Kenneth 2 5 5\n",
      "Rosen 2 45 1\n"
     ]
    }
   ],
   "source": [
    "l = [[\"Kenneth\", 2,5,5],[\"Rosen\", 2,45,1]]\n",
    "\n",
    "for e in l:\n",
    "    print(\" \".join(map(str,e)))"
   ]
  },
  {
   "cell_type": "code",
   "execution_count": 6,
   "metadata": {},
   "outputs": [
    {
     "name": "stdout",
     "output_type": "stream",
     "text": [
      "a, bb, c a d, def\n"
     ]
    }
   ],
   "source": [
    "l = [\"a\", \"bb\" , \"c a d\" , \"def\"]\n",
    "print(\", \".join(l))"
   ]
  },
  {
   "cell_type": "code",
   "execution_count": null,
   "metadata": {},
   "outputs": [],
   "source": []
  }
 ],
 "metadata": {
  "kernelspec": {
   "display_name": "Python 3",
   "language": "python",
   "name": "python3"
  },
  "language_info": {
   "codemirror_mode": {
    "name": "ipython",
    "version": 3
   },
   "file_extension": ".py",
   "mimetype": "text/x-python",
   "name": "python",
   "nbconvert_exporter": "python",
   "pygments_lexer": "ipython3",
   "version": "3.8.5"
  }
 },
 "nbformat": 4,
 "nbformat_minor": 4
}
