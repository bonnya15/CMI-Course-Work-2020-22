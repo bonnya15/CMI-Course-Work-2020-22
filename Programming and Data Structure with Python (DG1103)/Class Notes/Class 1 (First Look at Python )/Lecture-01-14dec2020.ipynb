{
 "cells": [
  {
   "cell_type": "markdown",
   "metadata": {},
   "source": [
    "# Programming and Data Structures with Python\n",
    "# Lecture 1, 14 December 2020"
   ]
  },
  {
   "cell_type": "markdown",
   "metadata": {},
   "source": [
    "## What is programming?\n",
    "\n",
    "Writing systematic procedures in precise notation\n",
    "\n",
    "- Systematic procedure: *algorithm*\n",
    "- Precise notation: *programming language*\n",
    "\t\n",
    "**Example**: Prepare a classroom for a seminar by a guest speaker\n",
    "\n",
    "- Various things to be done: arrange chairs, check\n",
    "  projector/screen, check audio system, turn on a/c early, ...\n",
    "  \n",
    "- Need to instruct support staff to do this task.  Nature of\n",
    "  instructions varies according to who is doing the job.\n",
    "\n",
    "    - Outsouce to professionals: Know the process, just provide the time\n",
    "      of the talk and the expected audience size.\n",
    "\t  \n",
    "\t- Somewhat experienced staff: Provide a high-level checklist,\n",
    "      but each step need not be described explicitly\n",
    "\n",
    "    - Inexperienced staff: Each high-level step needs detailed instructions \n",
    " \n",
    "        - Arranging chairs: arrange m rows of chairs, k chairs\n",
    "          per row, leave an aisle in between to walk to the back, ...)\n",
    "\n",
    "- In all cases, instructions are in terms of *basic steps*\n",
    "\n",
    "    - Basic steps can executed without further clarification\n",
    "\t\n",
    "\t- Granularity of the explanation varies according to the\n",
    "      nature of basic steps"
   ]
  },
  {
   "cell_type": "markdown",
   "metadata": {},
   "source": [
    "## Greatest Common Divisor\n",
    "\n",
    "$\\gcd(m,n)$ : largest $d$ that divides both $m$ and $n$\n",
    "\n",
    "- Also called hcf, *highest common factor*\n",
    "\n",
    "- 1 divides any number, so there is at least one such $d$, always\n",
    "\n",
    "How can we systematically compute $\\gcd(m,n)$?\n",
    "\n",
    "First look for a systematic procedure\n",
    "\n",
    "- \"*Brute force*\" - need not be clever or efficient, but must\n",
    "  always be correct\n",
    "\n",
    "From the definition fo $\\gcd(m,n)$:\n",
    "\n",
    "- Generate the set of factors/divisors of $m$\n",
    "\n",
    "- Generate the set of factors/divisors of $n$\n",
    "\n",
    "- Compare these sets and find the largest element common to both\n",
    "  sets\n"
   ]
  },
  {
   "cell_type": "markdown",
   "metadata": {},
   "source": [
    "## Computing the factors of $m$\n",
    "\n",
    "- Smallest factor of $m$ is 1, largest factor is $m$\n",
    "\n",
    "- Search for factors in the range 1,2,...,$m$\n",
    "\n",
    "    - For each number is in this range, check that $i$ divides\n",
    "      $m$\n",
    "\n",
    "- Factors of 14\n",
    "    - 1, 2, ~~3~~, ~~4~~, ~~5~~, ~~6~~, 7, ~~8~~, ~~9~~, ~~10~~,\n",
    "      ~~11~~, ~~12~~, ~~13~~, 14\n",
    "\t- $\\{1,2,7,14\\}$, set of factors of 14\n",
    "\t- $[1,2,7,14]$, list of factors of 14\n",
    "\t\n",
    "- Sets vs lists\n",
    "\n",
    "    - In a list, order matters\n",
    "\t    - $[1,2,7,14] \\neq [14,7,2,1]$, whereas $\\{1,2,7,14\\} = \\{14,7,2,1\\}$\n",
    "\n",
    "    - In a list, duplicates matter\n",
    "\t    - $[1,2,7,14,14] \\neq [1,2,7,14]$, whereas $\\{1,2,7,14\\} = \\{1,2,7,14,14\\}$\n",
    "\n",
    "- Compute $\\gcd(14,63)$\n",
    "\n",
    "\t- Factors of 14 are $[1,2,7,14]$\n",
    "\t\n",
    "\t- Factors of 63 are $[1,3,7,9,21,63]$\n",
    "\n",
    "    - Find largest element common to both lists\n",
    "\t\n",
    "\t     - For each factor of 14, check if it is also in the\n",
    "           list of factors 63\n",
    "\t\t   \n",
    "\t\t - Check 1 (yes), 2 (no), 7 (yes), 14 (no)\n",
    "\t\t \n",
    "\t- Common factors are $[1,7]$\n",
    "\t\t \n",
    "\t- Largest of these is 7, so $\\gcd(14,63) = 7$\n"
   ]
  },
  {
   "cell_type": "markdown",
   "metadata": {},
   "source": [
    "## Using names to store intermediate values\n",
    "\n",
    "In a maths book you might see an equation labelled (\\*) or (3.7)\n",
    "so that later in the text the author can refer to equation\n",
    "(\\*) or equation (3.7).\n",
    "\n",
    "Likewise, we need to refer to intermediate values in our\n",
    "procedure\n",
    "\n",
    "- Generate the list of factors of $m$\n",
    "- Generate the list of factors of $n$\n",
    "- Compare the **first** list with the **second** list\n",
    "- Generate a **third** list of common factors of $m$ and $n$\n",
    "\n",
    "As the number of items to keep track of increases, we need to\n",
    "name them systematically\n",
    "\n",
    "- **fm**, the list of factors of $m$\n",
    "- **fn**, the list of factors of $n$\n",
    "- **cf**, the list of common factors of $m$ and $n$\n",
    "\n",
    "Often, names are also referred to as *variables*\n",
    "\n",
    "- Different from variables in mathematics\n",
    "\n",
    "- In mathematics, a variable is typically an unknown, but fixed\n",
    "  quantity\n",
    "  \n",
    "  - I bought some apples and gave 3 to my sister.  I now have 2\n",
    "    apples left.  How many did I buy initially?\n",
    "\t\n",
    "  - Let $x$ be the number of apples I bought.  I know that $x - 5\n",
    "    = 3$.  So $x = 2$.\n",
    "\t\n",
    "  - The value of $x$ is not known till you resolve the\n",
    "    constraints, but the value of $x$ does not change\n",
    "\n",
    "- In programming, intermediate values are periodically updated\n",
    "\n",
    "  - Initially, **fm** is the empty list $[]$\n",
    "  \n",
    "  - Each factor $i$ we discover is appended to **fm**\n",
    "  \n",
    "  - Even $i$ is a name, for the potential factor we are checking!\n",
    "\n"
   ]
  },
  {
   "cell_type": "markdown",
   "metadata": {},
   "source": [
    "## Our first look at Python\n",
    "\n",
    "Here is Python code for the procedure we have described\n"
   ]
  },
  {
   "cell_type": "code",
   "execution_count": 1,
   "metadata": {},
   "outputs": [],
   "source": [
    "def gcd1(m,n):\n",
    "    fm = []\n",
    "    for i in range(1,m+1):\n",
    "        if (m%i) == 0:\n",
    "            fm.append(i)\n",
    "    fn = []\n",
    "    for j in range(1,n+1):\n",
    "        if (n%j) == 0:\n",
    "            fn.append(j)\n",
    "    cf = []\n",
    "    for f in fm:\n",
    "        if f in fn:\n",
    "            cf.append(f)\n",
    "    return(cf[-1])"
   ]
  },
  {
   "cell_type": "markdown",
   "metadata": {},
   "source": [
    "## Some explanations\n",
    "\n",
    "Define a function to compute $\\gcd(m,n)$.\n",
    "\n",
    "\t\tdef gcd1(m,n):\n",
    "\n",
    "- gcd1 because this is the first of multiple versions that we\n",
    "  will see \n",
    "\n",
    "Go through each $i$ from from 1 to $m$\n",
    "\n",
    "\t    for i in range(1,m+1):\n",
    "\n",
    "- range(1,m+1) generates the list [1,2,...,m]\n",
    "\n",
    "\n",
    "and update *fm* if $i$ divides $m$\n",
    "\n",
    "        if (m%i) == 0:\n",
    "            fm.append(i)\n",
    "\n",
    "- m%i is the remainder of $m$ divided by $i$, ($m \\bmod i$, in\n",
    "  mathematical notation)\n",
    "  \n",
    "- We use = for assigning a value, == to check equality\n",
    "\n",
    "Checking for common factors\n",
    "\n",
    "\t\tfor f in fm:\n",
    "\t\t\tif f in fn:\n",
    "\t\t\t\tcf.append(f)\n",
    "\n",
    "Factors are discovered in ascending order, so the largest common\n",
    "factor is the rightmost value in the list **cf**.  Lists are\n",
    "indexed forwards from 0 and backwards from -1.  The function\n",
    "returns the rightmost value in **cf**.\n",
    "\n",
    "\t\treturn(cf[-1])\n"
   ]
  },
  {
   "cell_type": "markdown",
   "metadata": {},
   "source": [
    "Run the code and check that it works"
   ]
  },
  {
   "cell_type": "code",
   "execution_count": 2,
   "metadata": {},
   "outputs": [
    {
     "data": {
      "text/plain": [
       "7"
      ]
     },
     "execution_count": 2,
     "metadata": {},
     "output_type": "execute_result"
    }
   ],
   "source": [
    "gcd1(14,63)"
   ]
  },
  {
   "cell_type": "code",
   "execution_count": 3,
   "metadata": {},
   "outputs": [
    {
     "data": {
      "text/plain": [
       "31"
      ]
     },
     "execution_count": 3,
     "metadata": {},
     "output_type": "execute_result"
    }
   ],
   "source": [
    "gcd1(837,775)"
   ]
  },
  {
   "cell_type": "markdown",
   "metadata": {},
   "source": [
    "## Improving the brute force algorithm\n",
    "\n",
    "Restricting the range to search for factors\n",
    "\n",
    "- Factors of $m$ are between 1 and $m$\n",
    "\n",
    "- 21 and 63 are factors of 63 that cannot be factors of 14\n",
    "\n",
    "- Enough to check for factors from 1 to $\\min(m,n)$\n",
    "\n",
    "Overlapping the search\n",
    "\n",
    "- Two scans from 1 to $\\min(m,n)$ to generate **fm** and **fn**\n",
    "\n",
    "- Instead, check and update both **fm** and **fn** in a single\n",
    "  scan\n",
    "  \n"
   ]
  },
  {
   "cell_type": "code",
   "execution_count": 4,
   "metadata": {},
   "outputs": [],
   "source": [
    "def gcd2(m,n):\n",
    "    fm = []\n",
    "    fn = []\n",
    "    for i in range(1,min(m,n)+1):\n",
    "        if (m%i) == 0:\n",
    "            fm.append(i)\n",
    "        if (n%i) == 0:\n",
    "            fn.append(i)\n",
    "    cf = []\n",
    "    for f in fm:\n",
    "        if f in fn:\n",
    "            cf.append(f)\n",
    "    return(cf[-1])"
   ]
  },
  {
   "cell_type": "markdown",
   "metadata": {},
   "source": [
    "## Still better\n",
    "\n",
    "While scanning values from 1 to $\\min(m,n)$ can directly identify\n",
    "common factors\n",
    "\n",
    "- No need to separately generate **fm** and **fn** and then scan\n",
    "  for common elements\n"
   ]
  },
  {
   "cell_type": "code",
   "execution_count": 5,
   "metadata": {},
   "outputs": [],
   "source": [
    "def gcd3(m,n):\n",
    "    cf = []\n",
    "    for i in range(1,min(m,n)+1):\n",
    "        if (m%i) == 0 and (n%i) == 0:\n",
    "            cf.append(i)\n",
    "    return(cf[-1])"
   ]
  },
  {
   "cell_type": "markdown",
   "metadata": {},
   "source": [
    "## Downloading and installing Python\n",
    "\n",
    "- We will use Python 3\n",
    "\n",
    "  - Latest version is 3.9.x, but any recent version will do\n",
    "\n",
    "- Download from the official Python site\n",
    "\n",
    "  - Python Software Foundation <https://www.python.org/>\n",
    "  \n",
    "- Anaconda distribution has a complete set of libraries to use\n",
    "  Python for data science\n",
    "  \n",
    "  - Anaconda Individual Edition <https://www.anaconda.com/products/individual>\n",
    "\n",
    "  - Will automatically install Jupyter notebook, which is being\n",
    "    used to generate these notes\n",
    "\t\n",
    "    - Very useful to write/update code and also include documentation\n"
   ]
  }
 ],
 "metadata": {
  "kernelspec": {
   "display_name": "Python 3",
   "language": "python",
   "name": "python3"
  },
  "language_info": {
   "codemirror_mode": {
    "name": "ipython",
    "version": 3
   },
   "file_extension": ".py",
   "mimetype": "text/x-python",
   "name": "python",
   "nbconvert_exporter": "python",
   "pygments_lexer": "ipython3",
   "version": "3.7.7"
  }
 },
 "nbformat": 4,
 "nbformat_minor": 4
}
