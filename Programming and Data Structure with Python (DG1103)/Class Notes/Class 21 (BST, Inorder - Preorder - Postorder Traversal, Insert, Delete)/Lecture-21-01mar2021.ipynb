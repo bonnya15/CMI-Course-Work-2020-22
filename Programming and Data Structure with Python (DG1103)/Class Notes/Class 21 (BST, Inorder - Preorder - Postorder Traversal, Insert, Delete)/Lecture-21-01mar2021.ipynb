{
 "cells": [
  {
   "cell_type": "markdown",
   "metadata": {},
   "source": [
    "# Programming and Data Structures with Python\n",
    "# Lecture 21, 1 March 2021"
   ]
  },
  {
   "cell_type": "code",
   "execution_count": 1,
   "metadata": {},
   "outputs": [],
   "source": [
    "class Tree:\n",
    "\n",
    "    # Empty node has self.value, self.left, self.right = None\n",
    "    # Leaf has self.value != None, and self.left, self.right point to empty node\n",
    "\n",
    "    # Constructor: create an empty node or a leaf node, depending on initval\n",
    "    def __init__(self,initval=None):\n",
    "        self.value = initval\n",
    "        if self.value is None:\n",
    "            self.left = None\n",
    "            self.right = None\n",
    "        else:\n",
    "            self.left = Tree()\n",
    "            self.right = Tree()            \n",
    "        return\n",
    "\n",
    "    # Only empty node has value None\n",
    "    def isempty(self):\n",
    "        return (self.value == None)\n",
    "\n",
    "    # Leaf nodes have both children empty\n",
    "    def isleaf(self):\n",
    "        return (self.left.isempty() and self.right.isempty())\n",
    "\n",
    "    # Convert a leaf node to an empty node\n",
    "    def makeempty(self):\n",
    "        self.value = None\n",
    "        self.left = None\n",
    "        self.right = None\n",
    "        return\n",
    "\n",
    "    # Copy right child values to current node\n",
    "    def copyright(self):\n",
    "        self.value = self.right.value\n",
    "        self.left = self.right.left\n",
    "        self.right = self.right.right\n",
    "        return\n",
    "\n",
    "    # Copy left child values to current node\n",
    "    def copyleft(self):\n",
    "        self.value = self.left.value\n",
    "        self.left = self.left.left\n",
    "        self.right = self.left.right\n",
    "        return\n",
    "    \n",
    "    # Check if value v occurs in tree\n",
    "    def find(self,v):\n",
    "        if self.isempty():\n",
    "            return(False)\n",
    "\n",
    "        if self.value == v:\n",
    "            return(True)\n",
    "\n",
    "        if v < self.value:\n",
    "            return(self.left.find(v))\n",
    "\n",
    "        if v > self.value:\n",
    "            return(self.right.find(v))\n",
    "\n",
    "    # Insert value v in tree\n",
    "    def insert(self,v):\n",
    "        if self.isempty():\n",
    "            self.value = v\n",
    "            self.left = Tree()\n",
    "            self.right = Tree()\n",
    "\n",
    "        if self.value == v:\n",
    "            return\n",
    "\n",
    "        if v < self.value:\n",
    "            self.left.insert(v)\n",
    "            return\n",
    "\n",
    "        if v > self.value:\n",
    "            self.right.insert(v)\n",
    "            return\n",
    "\n",
    "    # Find maximum value in a nonempty tree\n",
    "    def maxval(self):\n",
    "        if self.right.isempty():\n",
    "            return(self.value)\n",
    "        else:\n",
    "            return(self.right.maxval())\n",
    "\n",
    "    # Delete value v from tree\n",
    "    def delete(self,v):\n",
    "        if self.isempty():\n",
    "            return\n",
    "\n",
    "        if v < self.value:\n",
    "            self.left.delete(v)\n",
    "            return\n",
    "\n",
    "        if v > self.value:\n",
    "            self.right.delete(v)\n",
    "            return\n",
    "\n",
    "        if v == self.value:\n",
    "            if self.isleaf():\n",
    "                self.makeempty()\n",
    "            elif self.left.isempty():\n",
    "                self.copyright()\n",
    "            elif self.right.isempty():\n",
    "                self.copyleft()\n",
    "            else:\n",
    "                self.value = self.left.maxval()\n",
    "                self.left.delete(self.left.maxval())\n",
    "            return\n",
    "\n",
    "    # Inorder traversal\n",
    "    def inorder(self):\n",
    "        if self.isempty():\n",
    "            return([])\n",
    "        else:\n",
    "            return(self.left.inorder()+[self.value]+self.right.inorder())\n",
    "        \n",
    "    # Preorder traversal\n",
    "    def preorder(self):\n",
    "        if self.isempty():\n",
    "            return([])\n",
    "        else:\n",
    "            return([self.value]+self.left.preorder()+self.right.preorder())\n",
    "\n",
    "    # Postorder traversal\n",
    "    def postorder(self):\n",
    "        if self.isempty():\n",
    "            return([])\n",
    "        else:\n",
    "            return(self.left.postorder()+self.right.postorder()+[self.value])\n",
    "\n",
    "\n",
    "    # Display Tree as a string\n",
    "    def __str__(self):\n",
    "        return(str(self.inorder()))\n"
   ]
  },
  {
   "cell_type": "code",
   "execution_count": 2,
   "metadata": {},
   "outputs": [],
   "source": [
    "t = Tree(50)"
   ]
  },
  {
   "cell_type": "code",
   "execution_count": 3,
   "metadata": {},
   "outputs": [],
   "source": [
    "for i in [25,75,12,37,62,87]:\n",
    "    t.insert(i)"
   ]
  },
  {
   "cell_type": "code",
   "execution_count": 4,
   "metadata": {},
   "outputs": [
    {
     "name": "stdout",
     "output_type": "stream",
     "text": [
      "[12, 25, 37, 50, 62, 75, 87] [50, 25, 12, 37, 75, 62, 87] [12, 37, 25, 62, 87, 75, 50]\n"
     ]
    }
   ],
   "source": [
    "print(t,t.preorder(),t.postorder())"
   ]
  },
  {
   "cell_type": "code",
   "execution_count": 5,
   "metadata": {},
   "outputs": [],
   "source": [
    "t.insert(80)"
   ]
  },
  {
   "cell_type": "code",
   "execution_count": 6,
   "metadata": {},
   "outputs": [],
   "source": [
    "t.insert(82)"
   ]
  },
  {
   "cell_type": "code",
   "execution_count": 7,
   "metadata": {},
   "outputs": [],
   "source": [
    "t.insert(95)"
   ]
  },
  {
   "cell_type": "code",
   "execution_count": 8,
   "metadata": {},
   "outputs": [],
   "source": [
    "t.insert(92)"
   ]
  },
  {
   "cell_type": "code",
   "execution_count": 9,
   "metadata": {},
   "outputs": [],
   "source": [
    "t.delete(87)"
   ]
  },
  {
   "cell_type": "code",
   "execution_count": 10,
   "metadata": {
    "scrolled": true
   },
   "outputs": [
    {
     "name": "stdout",
     "output_type": "stream",
     "text": [
      "[12, 25, 37, 50, 62, 75, 80, 82, 92, 95] [50, 25, 12, 37, 75, 62, 82, 80, 95, 92] [12, 37, 25, 62, 80, 92, 95, 82, 75, 50]\n"
     ]
    }
   ],
   "source": [
    "print(t,t.preorder(),t.postorder())"
   ]
  }
 ],
 "metadata": {
  "kernelspec": {
   "display_name": "Python 3",
   "language": "python",
   "name": "python3"
  },
  "language_info": {
   "codemirror_mode": {
    "name": "ipython",
    "version": 3
   },
   "file_extension": ".py",
   "mimetype": "text/x-python",
   "name": "python",
   "nbconvert_exporter": "python",
   "pygments_lexer": "ipython3",
   "version": "3.8.5"
  }
 },
 "nbformat": 4,
 "nbformat_minor": 4
}
