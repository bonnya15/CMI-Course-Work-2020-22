{
 "cells": [
  {
   "cell_type": "code",
   "execution_count": 18,
   "metadata": {},
   "outputs": [],
   "source": [
    "class Tree:\n",
    "    def __init__(self, initval = None):\n",
    "        self.value = initval\n",
    "        if self.value:  # If there is a value it will make the left and the right child empty tree\n",
    "            self.left = Tree()  \n",
    "            self.right = Tree()\n",
    "        else:\n",
    "            self.left = None # In that empty tree, if the values are None, Then the left and right will also be none\n",
    "            self.right = None \n",
    "        return\n",
    "    \n",
    "    \n",
    "    def isempty(self):\n",
    "        if self.value == None:\n",
    "            return(True)\n",
    "        else:\n",
    "            return(False)\n",
    "     \n",
    "    def inorder(self):\n",
    "        if self.isempty():\n",
    "            return([])\n",
    "        else:\n",
    "            return(self.left.inorder() + [self.value] + self.right.inorder())\n",
    "        \n",
    "    def __str__(self):\n",
    "        return(str(self.inorder()))\n",
    "    \n",
    "    def insert(self,v):\n",
    "        if self.isempty():\n",
    "            self.value = v\n",
    "            self.left = Tree()\n",
    "            self.right = Tree()\n",
    "            \n",
    "        if self.value == v:\n",
    "            return \n",
    "        \n",
    "        if v < self.value:\n",
    "            self.left.insert(v)\n",
    "            return\n",
    "        if v > self.value:\n",
    "            self.right.insert(v)\n",
    "            return\n",
    "    "
   ]
  },
  {
   "cell_type": "code",
   "execution_count": 19,
   "metadata": {},
   "outputs": [
    {
     "data": {
      "text/plain": [
       "False"
      ]
     },
     "execution_count": 19,
     "metadata": {},
     "output_type": "execute_result"
    }
   ],
   "source": [
    "t1 = Tree(3)\n",
    "t1.isempty()"
   ]
  },
  {
   "cell_type": "code",
   "execution_count": 20,
   "metadata": {},
   "outputs": [],
   "source": [
    "for i in [1,7,6,2,4,5,23,47,71]:\n",
    "    t1.insert(i)"
   ]
  },
  {
   "cell_type": "code",
   "execution_count": 21,
   "metadata": {},
   "outputs": [
    {
     "name": "stdout",
     "output_type": "stream",
     "text": [
      "[1, 2, 3, 4, 5, 6, 7, 23, 47, 71]\n"
     ]
    }
   ],
   "source": [
    "print(t1)"
   ]
  }
 ],
 "metadata": {
  "kernelspec": {
   "display_name": "Python 3",
   "language": "python",
   "name": "python3"
  },
  "language_info": {
   "codemirror_mode": {
    "name": "ipython",
    "version": 3
   },
   "file_extension": ".py",
   "mimetype": "text/x-python",
   "name": "python",
   "nbconvert_exporter": "python",
   "pygments_lexer": "ipython3",
   "version": "3.8.5"
  }
 },
 "nbformat": 4,
 "nbformat_minor": 4
}
